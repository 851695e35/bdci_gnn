{
 "cells": [
  {
   "cell_type": "code",
   "execution_count": 20,
   "id": "114502f6",
   "metadata": {},
   "outputs": [],
   "source": [
    "import torch\n",
    "import torch.nn as nn\n",
    "import torch.optim as optim\n",
    "from torch.utils.data import DataLoader\n",
    "import torch_geometric.nn as gnn\n",
    "import pickle\n",
    "from tqdm import tqdm\n",
    "import numpy as np\n",
    "from torch.functional import F\n",
    "import matplotlib.pyplot as plt\n",
    "\n",
    "\n",
    "with open(\"data/train_graphs_data.pkl\", \"rb\") as file:\n",
    "    all_graphs = pickle.load(file)\n",
    "    file.close()"
   ]
  },
  {
   "cell_type": "code",
   "execution_count": 21,
   "metadata": {},
   "outputs": [
    {
     "data": {
      "text/plain": [
       "(90,\n",
       " Data(x=[1140, 33], edge_index=[2, 11709], edge_attr=[11709, 2], y=[1140, 2]),\n",
       " tensor([-0.2741, -0.6940]))"
      ]
     },
     "execution_count": 21,
     "metadata": {},
     "output_type": "execute_result"
    }
   ],
   "source": [
    "len(all_graphs), all_graphs[0], all_graphs[0].y[0]"
   ]
  },
  {
   "cell_type": "markdown",
   "metadata": {},
   "source": [
    "# 制作模型"
   ]
  },
  {
   "cell_type": "markdown",
   "metadata": {},
   "source": [
    "### GATv2用于对图进行embedding"
   ]
  },
  {
   "cell_type": "code",
   "execution_count": 22,
   "id": "b3d10089",
   "metadata": {},
   "outputs": [],
   "source": [
    "class GATv2Model(nn.Module):\n",
    "    def __init__(self, input_size, output_size):\n",
    "        super(GATv2Model, self).__init__()\n",
    "\n",
    "        heads = 2\n",
    "        edge_dim = 8\n",
    "\n",
    "        # 图卷积层只需要2~3层就可以了\n",
    "        self.graph_features = nn.ModuleList(\n",
    "            [\n",
    "                gnn.GATv2Conv(input_size, 128, heads=heads, edge_dim=edge_dim),\n",
    "                nn.LayerNorm(128 * heads),\n",
    "                nn.ELU(),\n",
    "                gnn.GATv2Conv(128 * heads, 128, heads=heads, edge_dim=edge_dim),\n",
    "                nn.LayerNorm(128 * heads),\n",
    "                nn.ELU(),\n",
    "                # nn.Dropout(0.1),\n",
    "            ]\n",
    "        )\n",
    "\n",
    "        # 考虑更多的trick，如layernorm等等\n",
    "        self.regression = nn.Sequential(\n",
    "            nn.Linear(128 * heads, 128),\n",
    "            nn.LayerNorm(128),\n",
    "            nn.ELU(),\n",
    "            nn.Linear(128, 128),\n",
    "            nn.LayerNorm(128),\n",
    "            nn.ELU(),\n",
    "            nn.Linear(128, output_size),\n",
    "        )\n",
    "\n",
    "        self.edge_linear = nn.Sequential(\n",
    "            nn.Linear(2, 16),\n",
    "            nn.LayerNorm(16),\n",
    "            nn.ELU(),\n",
    "            nn.Linear(16, 16),\n",
    "            nn.LayerNorm(16),\n",
    "            nn.ELU(),\n",
    "            nn.Linear(16, edge_dim),\n",
    "        )\n",
    "\n",
    "    def forward(self, data):\n",
    "        x, edge_index, edge_raw_attr = data.x, data.edge_index, data.edge_attr\n",
    "\n",
    "        output = x\n",
    "\n",
    "        edge_attr = self.edge_linear(edge_raw_attr)\n",
    "\n",
    "        for layer in self.graph_features:\n",
    "            if isinstance(layer, gnn.GATv2Conv):\n",
    "                output = layer(output, edge_index, edge_attr)\n",
    "            elif isinstance(layer, gnn.SAGEConv):\n",
    "                output = layer(output, edge_index)\n",
    "            else:\n",
    "                output = layer(output)\n",
    "\n",
    "        output = self.regression(output)\n",
    "\n",
    "        return output"
   ]
  },
  {
   "cell_type": "code",
   "execution_count": 23,
   "metadata": {},
   "outputs": [
    {
     "data": {
      "text/plain": [
       "torch.Size([1140, 64])"
      ]
     },
     "execution_count": 23,
     "metadata": {},
     "output_type": "execute_result"
    }
   ],
   "source": [
    "# 看看模型的输入输出\n",
    "model = GATv2Model(input_size=33, output_size=64)\n",
    "output = model(all_graphs[0])\n",
    "output.shape"
   ]
  },
  {
   "cell_type": "markdown",
   "metadata": {},
   "source": [
    "### LSTM用于串联每个节点的embedding，并计算回归值\n",
    "\n",
    "输入：x.shape = (1140, seq_len, 节点feature_size)\n",
    "\n",
    "输出：out.shape = (1140, 2)\n",
    "\n",
    "输出是seq_len中的最后一项的回归值\n",
    "\n",
    "**注意：第一个维度只能是1140，而不能自定义batch_size，因为图模型跑完以后会得到整张图的embedding**\n",
    "\n",
    "如果选取一小部分放进lstm，SAGE+LSTM模型的forward函数将变得很难写"
   ]
  },
  {
   "cell_type": "code",
   "execution_count": 24,
   "metadata": {},
   "outputs": [],
   "source": [
    "class LSTMModel(nn.Module):\n",
    "    def __init__(self, input_size, output_size):\n",
    "        super(LSTMModel, self).__init__()\n",
    "        self.input_size = input_size\n",
    "        self.output_size = output_size\n",
    "\n",
    "        self.features = nn.Sequential(\n",
    "            nn.LSTM(\n",
    "                input_size=input_size,\n",
    "                hidden_size=64,\n",
    "                num_layers=1,\n",
    "                batch_first=True,\n",
    "            ),\n",
    "        )\n",
    "\n",
    "        self.linears = nn.Sequential(\n",
    "            # nn.LayerNorm(64),\n",
    "            nn.ELU(),\n",
    "            nn.Dropout(0.1),\n",
    "            nn.Linear(64, 64),\n",
    "            # nn.LayerNorm(64),\n",
    "            nn.ELU(),\n",
    "            nn.Linear(64, 32),\n",
    "            # nn.LayerNorm(32),\n",
    "            nn.ELU(),\n",
    "            nn.Linear(32, output_size),\n",
    "        )\n",
    "\n",
    "    def forward(self, x):\n",
    "        _, (hn, _) = self.features(x)\n",
    "        out = self.linears(hn[-1])\n",
    "\n",
    "        return out"
   ]
  },
  {
   "cell_type": "code",
   "execution_count": 25,
   "metadata": {},
   "outputs": [
    {
     "data": {
      "text/plain": [
       "torch.Size([1140, 90, 33])"
      ]
     },
     "execution_count": 25,
     "metadata": {},
     "output_type": "execute_result"
    }
   ],
   "source": [
    "lstm_input = np.array([g.x for g in all_graphs])\n",
    "# batch放到第一个维度\n",
    "lstm_input = lstm_input.swapaxes(0, 1)\n",
    "lstm_input = torch.from_numpy(lstm_input).float()\n",
    "\n",
    "lstm_input.shape"
   ]
  },
  {
   "cell_type": "code",
   "execution_count": 26,
   "metadata": {},
   "outputs": [
    {
     "data": {
      "text/plain": [
       "torch.Size([1140, 2])"
      ]
     },
     "execution_count": 26,
     "metadata": {},
     "output_type": "execute_result"
    }
   ],
   "source": [
    "model = LSTMModel(input_size=33, output_size=2)\n",
    "output = model(lstm_input)\n",
    "output.shape"
   ]
  },
  {
   "cell_type": "markdown",
   "metadata": {},
   "source": [
    "## 总的模型（下面简称为SL模型）：先图conv，再lstm\n",
    "\n",
    "输入：图列表，长度为LSTM的seq_len\n",
    "\n",
    "输出：[1140, 2] (输入的图列表中的最后一个图的回归值)"
   ]
  },
  {
   "cell_type": "code",
   "execution_count": 27,
   "metadata": {},
   "outputs": [],
   "source": [
    "class FinalModel(nn.Module):\n",
    "    def __init__(self, input_size, output_size):\n",
    "        super(FinalModel, self).__init__()\n",
    "        self.input_size = input_size\n",
    "        self.output_size = output_size\n",
    "\n",
    "        graph_feature_size = 64\n",
    "        self.sage = GATv2Model(input_size, graph_feature_size)\n",
    "        self.dropout = nn.Dropout(0.2)\n",
    "        self.lstm = LSTMModel(graph_feature_size, output_size)\n",
    "\n",
    "    def forward(self, graphs):\n",
    "        # data: [graph]\n",
    "        # 堆叠在维度1\n",
    "        # output.shape = [1140个节点, 90张图, 32个特征]\n",
    "\n",
    "        # 这里能不能并行呢？能不能不用for循环？\n",
    "        output = torch.stack([self.sage(graph) for graph in graphs], dim=1)\n",
    "        output = self.dropout(output)\n",
    "        output = self.lstm(output)\n",
    "\n",
    "        return output"
   ]
  },
  {
   "cell_type": "code",
   "execution_count": 28,
   "metadata": {},
   "outputs": [
    {
     "data": {
      "text/plain": [
       "torch.Size([1140, 2])"
      ]
     },
     "execution_count": 28,
     "metadata": {},
     "output_type": "execute_result"
    }
   ],
   "source": [
    "model = FinalModel(input_size=33, output_size=2)\n",
    "output = model(all_graphs)\n",
    "\n",
    "output.shape"
   ]
  },
  {
   "cell_type": "markdown",
   "metadata": {},
   "source": [
    "# 制作数据\n",
    "\n",
    "数据需要处理成SL模型需要的格式"
   ]
  },
  {
   "cell_type": "code",
   "execution_count": 29,
   "metadata": {},
   "outputs": [],
   "source": [
    "# 数据全部放到GPU上\n",
    "device = torch.device(\"cuda\" if torch.cuda.is_available() else \"cpu\")\n",
    "graphs = [graph.to(device) for graph in all_graphs]"
   ]
  },
  {
   "cell_type": "code",
   "execution_count": 30,
   "metadata": {},
   "outputs": [],
   "source": [
    "def genLSTMData(graphs, seq_len, stride=1):\n",
    "    # graphs：列表，每个元素是一个graph\n",
    "    graph_list = []\n",
    "    for i in range(0, len(graphs) - seq_len + 1, stride):\n",
    "        print(i, i + seq_len)\n",
    "        graph_list.append(graphs[i : i + seq_len])\n",
    "    return graph_list"
   ]
  },
  {
   "cell_type": "markdown",
   "metadata": {},
   "source": [
    "# 设置seq_len"
   ]
  },
  {
   "cell_type": "code",
   "execution_count": 31,
   "metadata": {},
   "outputs": [],
   "source": [
    "seq_len = 14"
   ]
  },
  {
   "cell_type": "code",
   "execution_count": 32,
   "metadata": {},
   "outputs": [
    {
     "name": "stdout",
     "output_type": "stream",
     "text": [
      "0 14\n",
      "1 15\n",
      "2 16\n",
      "3 17\n",
      "4 18\n",
      "5 19\n",
      "6 20\n",
      "7 21\n",
      "8 22\n",
      "9 23\n",
      "10 24\n",
      "11 25\n",
      "12 26\n",
      "13 27\n",
      "14 28\n",
      "15 29\n",
      "16 30\n",
      "17 31\n",
      "18 32\n",
      "19 33\n",
      "20 34\n",
      "21 35\n",
      "22 36\n",
      "23 37\n",
      "24 38\n",
      "25 39\n",
      "26 40\n",
      "27 41\n",
      "28 42\n",
      "29 43\n",
      "30 44\n",
      "31 45\n",
      "32 46\n",
      "33 47\n",
      "34 48\n",
      "35 49\n",
      "36 50\n",
      "37 51\n",
      "38 52\n",
      "39 53\n",
      "40 54\n",
      "41 55\n",
      "42 56\n",
      "43 57\n",
      "44 58\n",
      "45 59\n",
      "46 60\n",
      "47 61\n",
      "48 62\n",
      "49 63\n",
      "50 64\n",
      "51 65\n",
      "52 66\n",
      "53 67\n",
      "54 68\n",
      "55 69\n",
      "56 70\n",
      "57 71\n",
      "58 72\n",
      "59 73\n",
      "60 74\n",
      "61 75\n",
      "62 76\n",
      "63 77\n",
      "64 78\n",
      "65 79\n",
      "66 80\n",
      "67 81\n",
      "68 82\n",
      "69 83\n",
      "70 84\n",
      "71 85\n",
      "72 86\n",
      "73 87\n",
      "74 88\n",
      "75 89\n",
      "76 90\n"
     ]
    }
   ],
   "source": [
    "graph_list = genLSTMData(graphs, seq_len=seq_len, stride=1)"
   ]
  },
  {
   "cell_type": "code",
   "execution_count": 33,
   "metadata": {},
   "outputs": [
    {
     "data": {
      "text/plain": [
       "(77, 14, 14)"
      ]
     },
     "execution_count": 33,
     "metadata": {},
     "output_type": "execute_result"
    }
   ],
   "source": [
    "len(graph_list), len(graph_list[0]), len(graph_list[-1])"
   ]
  },
  {
   "cell_type": "markdown",
   "metadata": {},
   "source": [
    "### 划分训练测试集"
   ]
  },
  {
   "cell_type": "code",
   "execution_count": 34,
   "metadata": {},
   "outputs": [],
   "source": [
    "# # 划分训练集和验证集，使用sklearn的train_test_split函数\n",
    "# from sklearn.model_selection import train_test_split\n",
    "\n",
    "# train_graph_list, val_graph_list = train_test_split(graph_list, test_size=0.15)"
   ]
  },
  {
   "cell_type": "code",
   "execution_count": 35,
   "metadata": {},
   "outputs": [
    {
     "data": {
      "text/plain": [
       "(73, 4)"
      ]
     },
     "execution_count": 35,
     "metadata": {},
     "output_type": "execute_result"
    }
   ],
   "source": [
    "train_val_split = int(len(graph_list) * 0.95)\n",
    "train_graph_list, val_graph_list = (\n",
    "    graph_list[:train_val_split],\n",
    "    graph_list[train_val_split:],\n",
    ")\n",
    "len(train_graph_list), len(val_graph_list)"
   ]
  },
  {
   "cell_type": "markdown",
   "metadata": {},
   "source": [
    "# 开始训练"
   ]
  },
  {
   "cell_type": "code",
   "execution_count": 36,
   "id": "bb002ef7",
   "metadata": {},
   "outputs": [
    {
     "data": {
      "text/plain": [
       "(33, 2, 2, device(type='cuda'))"
      ]
     },
     "execution_count": 36,
     "metadata": {},
     "output_type": "execute_result"
    }
   ],
   "source": [
    "input_size = graphs[0].x.shape[1]\n",
    "# 这里的output_size就是最终的输出维度，不需要再乘以num_heads\n",
    "output_size = graphs[0].y.shape[1]\n",
    "# 个人认为，注意力头的个数至少应该等于输出维度，因为每个输出可能需要关注不同的邻居\n",
    "num_heads = graphs[0].y.shape[1]\n",
    "\n",
    "# batch_size = 256\n",
    "input_size, output_size, num_heads, device"
   ]
  },
  {
   "cell_type": "code",
   "execution_count": 37,
   "id": "c1d2aa35",
   "metadata": {},
   "outputs": [],
   "source": [
    "def train(\n",
    "    model,\n",
    "    criterion,\n",
    "    optimizer,\n",
    "    scheduler,\n",
    "    train_graph_list,\n",
    "    val_graph_list=None,\n",
    "    num_epochs=50,\n",
    "):\n",
    "    # 训练过程记录\n",
    "    train_loss_list = []\n",
    "    val_loss_list = []\n",
    "\n",
    "    with tqdm(total=num_epochs, desc=\"Training Progress\", unit=\"epoch\") as pbar_epochs:\n",
    "        for epoch in range(num_epochs):\n",
    "            # 训练\n",
    "            model.train()\n",
    "            train_loss = 0.0\n",
    "\n",
    "            # 图网络不支持batch，只能一个一个图训练\n",
    "            for i, graphs in enumerate(train_graph_list):\n",
    "                output = model(graphs)\n",
    "\n",
    "                optimizer.zero_grad()\n",
    "                loss = criterion(output, graphs[-1].y)\n",
    "                loss.backward()\n",
    "                optimizer.step()\n",
    "\n",
    "                train_loss += loss.item()\n",
    "\n",
    "            train_loss /= len(train_graph_list)\n",
    "            train_loss_list.append(train_loss)\n",
    "\n",
    "            # 验证\n",
    "            if val_graph_list:\n",
    "                model.eval()\n",
    "                with torch.no_grad():\n",
    "                    val_loss = 0.0\n",
    "                    for i, graphs in enumerate(val_graph_list):\n",
    "                        output = model(graphs)\n",
    "                        loss = criterion(output, graphs[-1].y)\n",
    "                        val_loss += loss.item()\n",
    "                    val_loss /= len(val_graph_list)\n",
    "                    val_loss_list.append(val_loss)\n",
    "\n",
    "            if val_graph_list:\n",
    "                pbar_epochs.set_postfix(\n",
    "                    {\"train MSE Loss\": train_loss, \"val MSE Loss\": val_loss}\n",
    "                )\n",
    "            else:\n",
    "                pbar_epochs.set_postfix({\"train MSE Loss\": train_loss})\n",
    "\n",
    "            pbar_epochs.update(1)\n",
    "            # 学习率更新\n",
    "            scheduler.step()\n",
    "\n",
    "    # 可视化训练过程\n",
    "    plt.figure()\n",
    "    plt.plot(train_loss_list, label=\"train loss\")\n",
    "    if val_graph_list:\n",
    "        plt.plot(val_loss_list, label=\"val loss\")\n",
    "    plt.xlabel(\"epoch\")\n",
    "    plt.ylabel(\"MSE loss\")\n",
    "    plt.legend()\n",
    "\n",
    "    return model, train_loss_list, val_loss_list"
   ]
  },
  {
   "cell_type": "code",
   "execution_count": 38,
   "metadata": {},
   "outputs": [
    {
     "name": "stderr",
     "output_type": "stream",
     "text": [
      "Training Progress:   0%|          | 0/300 [00:00<?, ?epoch/s]"
     ]
    },
    {
     "name": "stderr",
     "output_type": "stream",
     "text": [
      "Training Progress: 100%|██████████| 300/300 [43:48<00:00,  8.76s/epoch, train MSE Loss=0.0214, val MSE Loss=0.0437]\n"
     ]
    },
    {
     "data": {
      "image/png": "[encoded data removed]",
      "text/plain": [
       "<Figure size 640x480 with 1 Axes>"
      ]
     },
     "metadata": {},
     "output_type": "display_data"
    }
   ],
   "source": [
    "# 定义模型、算法、损失函数\n",
    "model = FinalModel(\n",
    "    input_size=input_size,\n",
    "    output_size=output_size,\n",
    ").to(device)\n",
    "# 考虑是否加入weight_decay\n",
    "optimizer = optim.Adam(model.parameters(), lr=1e-4, weight_decay=1e-3)\n",
    "# 学习率衰减\n",
    "scheduler = optim.lr_scheduler.StepLR(optimizer, step_size=100, gamma=0.3)\n",
    "# criterion = nn.MSELoss(reduction=\"sum\")\n",
    "criterion = nn.MSELoss().to(device)\n",
    "\n",
    "model, train_loss_list, val_loss_list = train(\n",
    "    model=model,\n",
    "    criterion=criterion,\n",
    "    optimizer=optimizer,\n",
    "    scheduler=scheduler,\n",
    "    train_graph_list=train_graph_list,\n",
    "    val_graph_list=val_graph_list,\n",
    "    num_epochs=300,\n",
    ")"
   ]
  },
  {
   "cell_type": "markdown",
   "metadata": {},
   "source": [
    "### 由于数据是通过滑动窗口生成的，所以没必要把所有数据都放进模型训练了，训练集的数据已经很有代表性"
   ]
  },
  {
   "cell_type": "code",
   "execution_count": null,
   "metadata": {},
   "outputs": [],
   "source": [
    "# # 定义模型、算法、损失函数\n",
    "# model = GATv2Model(\n",
    "#     input_size=input_size,\n",
    "#     output_size=output_size,\n",
    "#     num_heads=num_heads,\n",
    "# ).to(device)\n",
    "# # 考虑是否加入weight_decay\n",
    "# optimizer = optim.Adam(model.parameters(), lr=1e-4)\n",
    "# criterion = nn.MSELoss()\n",
    "\n",
    "# model = train(model, criterion, optimizer, graphs, num_epochs=300)"
   ]
  },
  {
   "cell_type": "code",
   "execution_count": 138,
   "metadata": {},
   "outputs": [],
   "source": [
    "# 保存模型\n",
    "model_path = \"saved/models/sage+lstm-2023.11.22.pth\"\n",
    "# 由于模型比较复杂，所以使用torch.save保存整个模型\n",
    "torch.save(model, model_path)"
   ]
  },
  {
   "cell_type": "markdown",
   "metadata": {},
   "source": [
    "# 预测"
   ]
  },
  {
   "cell_type": "code",
   "execution_count": 161,
   "metadata": {},
   "outputs": [],
   "source": [
    "# # 读取模型\n",
    "# model = GATv2Model(\n",
    "#     input_size=input_size,\n",
    "#     output_size=output_size,\n",
    "#     num_heads=num_heads,\n",
    "# ).to(device)\n",
    "# model.load_state_dict(torch.load(model_path))"
   ]
  },
  {
   "cell_type": "code",
   "execution_count": 162,
   "metadata": {},
   "outputs": [],
   "source": [
    "# 读取node_ids\n",
    "with open(\"data/node_ids.pkl\", \"rb\") as file:\n",
    "    node_ids = pickle.load(file)\n",
    "    file.close()"
   ]
  },
  {
   "cell_type": "code",
   "execution_count": 163,
   "metadata": {},
   "outputs": [],
   "source": [
    "# 读取scaler\n",
    "import pickle\n",
    "\n",
    "with open(\"saved/scaler/label_scaler.pkl\", \"rb\") as file:\n",
    "    label_scaler = pickle.load(file)\n",
    "    file.close()"
   ]
  },
  {
   "cell_type": "code",
   "execution_count": 164,
   "metadata": {},
   "outputs": [],
   "source": [
    "# 读取测试集\n",
    "with open(\"data/test_graphs_data.pkl\", \"rb\") as file:\n",
    "    test_graphs = pickle.load(file)\n",
    "    file.close()"
   ]
  },
  {
   "cell_type": "code",
   "execution_count": 165,
   "metadata": {},
   "outputs": [
    {
     "data": {
      "text/plain": [
       "(4, Data(x=[1140, 33], edge_index=[2, 21018], edge_attr=[21018, 2]))"
      ]
     },
     "execution_count": 165,
     "metadata": {},
     "output_type": "execute_result"
    }
   ],
   "source": [
    "len(test_graphs), test_graphs[0]"
   ]
  },
  {
   "cell_type": "markdown",
   "metadata": {},
   "source": [
    "### 制造模型需要的数据"
   ]
  },
  {
   "cell_type": "code",
   "execution_count": 166,
   "metadata": {},
   "outputs": [],
   "source": [
    "test_graphs = [graph.to(device) for graph in test_graphs]"
   ]
  },
  {
   "cell_type": "code",
   "execution_count": 167,
   "metadata": {},
   "outputs": [
    {
     "name": "stdout",
     "output_type": "stream",
     "text": [
      "0 7\n",
      "1 8\n",
      "2 9\n",
      "3 10\n"
     ]
    },
    {
     "data": {
      "text/plain": [
       "4"
      ]
     },
     "execution_count": 167,
     "metadata": {},
     "output_type": "execute_result"
    }
   ],
   "source": [
    "test_graph_list = genLSTMData(\n",
    "    graphs[-seq_len + 1 :] + test_graphs, seq_len=seq_len, stride=1\n",
    ")\n",
    "len(test_graph_list)"
   ]
  },
  {
   "cell_type": "markdown",
   "metadata": {},
   "source": [
    "预测"
   ]
  },
  {
   "cell_type": "code",
   "execution_count": 168,
   "metadata": {},
   "outputs": [],
   "source": [
    "model.eval()\n",
    "output_list = []\n",
    "with torch.no_grad():\n",
    "    for i, graphs in enumerate(test_graph_list):\n",
    "        output = model(graphs)\n",
    "        output_list.append(output.detach().cpu().numpy())"
   ]
  },
  {
   "cell_type": "code",
   "execution_count": 169,
   "metadata": {},
   "outputs": [
    {
     "data": {
      "text/plain": [
       "(4, (1140, 2), array([-0.42925483, -1.0096784 ], dtype=float32))"
      ]
     },
     "execution_count": 169,
     "metadata": {},
     "output_type": "execute_result"
    }
   ],
   "source": [
    "len(output_list), output_list[0].shape, output_list[0][0]"
   ]
  },
  {
   "cell_type": "code",
   "execution_count": 170,
   "metadata": {},
   "outputs": [],
   "source": [
    "# 缩放\n",
    "output_list = [label_scaler.inverse_transform(output) for output in output_list]"
   ]
  },
  {
   "cell_type": "code",
   "execution_count": 171,
   "metadata": {},
   "outputs": [
    {
     "data": {
      "text/plain": [
       "array([68.77334, 61.03991], dtype=float32)"
      ]
     },
     "execution_count": 171,
     "metadata": {},
     "output_type": "execute_result"
    }
   ],
   "source": [
    "# 看看是不是缩放完成啦\n",
    "output_list[0][0]"
   ]
  },
  {
   "cell_type": "markdown",
   "metadata": {},
   "source": [
    "### 把输出转成需要的格式"
   ]
  },
  {
   "cell_type": "code",
   "execution_count": 172,
   "metadata": {},
   "outputs": [],
   "source": [
    "import csv\n",
    "\n",
    "# 结果写入csv，分隔符为\\t\n",
    "output_path = \"output/sgae+lstm.csv\"\n",
    "\n",
    "date_id = [20230404, 20230405, 20230406, 20230407]\n",
    "with open(output_path, \"w\", newline=\"\") as f:\n",
    "    writer = csv.writer(f, delimiter=\"\\t\")  # 设置分隔符为制表符\n",
    "    writer.writerow([\"geohash_id\", \"consumption_level\", \"activity_level\", \"date_id\"])\n",
    "\n",
    "    # output_list.shape = [4天, 节点数, 2个输出]\n",
    "    for nidx in range(len(node_ids)):\n",
    "        for day in range(len(date_id)):\n",
    "            # 注意不要写反了\n",
    "            writer.writerow(\n",
    "                [\n",
    "                    node_ids[nidx],\n",
    "                    output_list[day][nidx][1],\n",
    "                    output_list[day][nidx][0],\n",
    "                    date_id[day],\n",
    "                ]\n",
    "            )\n",
    "    f.close()"
   ]
  }
 ],
 "metadata": {
  "kernelspec": {
   "display_name": "Python 3 (ipykernel)",
   "language": "python",
   "name": "python3"
  },
  "language_info": {
   "codemirror_mode": {
    "name": "ipython",
    "version": 3
   },
   "file_extension": ".py",
   "mimetype": "text/x-python",
   "name": "python",
   "nbconvert_exporter": "python",
   "pygments_lexer": "ipython3",
   "version": "3.10.13"
  }
 },
 "nbformat": 4,
 "nbformat_minor": 5
}
