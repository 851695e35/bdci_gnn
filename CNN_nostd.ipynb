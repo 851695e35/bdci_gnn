{
 "cells": [
  {
   "cell_type": "code",
   "execution_count": 27,
   "id": "initial_id",
   "metadata": {
    "ExecuteTime": {
     "end_time": "2023-11-25T04:46:04.154842Z",
     "start_time": "2023-11-25T04:46:03.984778900Z"
    },
    "collapsed": true
   },
   "outputs": [],
   "source": [
    "import pandas as pd\n",
    "import torch\n",
    "import torch.nn as nn\n",
    "import torch.optim as optim\n",
    "from torch.autograd import Variable\n",
    "from torch.utils.data import DataLoader, TensorDataset\n",
    "import torch.nn.functional as F\n",
    "from sklearn.preprocessing import StandardScaler, MinMaxScaler\n",
    "from tqdm import tqdm\n",
    "import matplotlib.pyplot as plt"
   ]
  },
  {
   "cell_type": "code",
   "execution_count": 28,
   "metadata": {},
   "outputs": [
    {
     "data": {
      "text/plain": [
       "device(type='cuda', index=0)"
      ]
     },
     "execution_count": 28,
     "metadata": {},
     "output_type": "execute_result"
    }
   ],
   "source": [
    "device = torch.device(\"cuda:0\" if torch.cuda.is_available() else \"cpu\")\n",
    "device"
   ]
  },
  {
   "cell_type": "code",
   "execution_count": 29,
   "id": "62e14f50eaa6077f",
   "metadata": {
    "ExecuteTime": {
     "end_time": "2023-11-25T04:46:04.194369500Z",
     "start_time": "2023-11-25T04:46:03.999781300Z"
    },
    "collapsed": false
   },
   "outputs": [],
   "source": [
    "def get_train_data():\n",
    "    file = \"data/raw/train_90.csv\"\n",
    "    train_data = pd.read_csv(file)\n",
    "    return train_data\n",
    "\n",
    "\n",
    "def get_test_data():\n",
    "    file = \"data/raw/A榜/node_test_4_A.csv\"\n",
    "    test_data = pd.read_csv(file)\n",
    "    return test_data"
   ]
  },
  {
   "cell_type": "code",
   "execution_count": 30,
   "id": "577f06b962afb28d",
   "metadata": {
    "ExecuteTime": {
     "end_time": "2023-11-25T04:46:04.194369500Z",
     "start_time": "2023-11-25T04:46:04.013784600Z"
    },
    "collapsed": false
   },
   "outputs": [],
   "source": [
    "import math\n",
    "\n",
    "\n",
    "def calScore(loss):\n",
    "    return 1 / (1 + math.sqrt(2 * loss))"
   ]
  },
  {
   "cell_type": "code",
   "execution_count": 31,
   "id": "5b966670a28cc656",
   "metadata": {
    "ExecuteTime": {
     "end_time": "2023-11-25T04:46:04.194369500Z",
     "start_time": "2023-11-25T04:46:04.053594200Z"
    },
    "collapsed": false
   },
   "outputs": [],
   "source": [
    "class CNN(nn.Module):\n",
    "    def __init__(self):\n",
    "        super(CNN, self).__init__()\n",
    "\n",
    "        self.features = nn.Sequential(\n",
    "            nn.Conv1d(36, 64, kernel_size=3, stride=1, padding=1),\n",
    "            nn.ReLU(),\n",
    "            # nn.MaxPool1d(kernel_size=1, stride=1),\n",
    "            nn.Conv1d(64, 128, kernel_size=3, stride=1, padding=1),\n",
    "            nn.ReLU(),\n",
    "            # nn.MaxPool1d(kernel_size=1, stride=1),\n",
    "        )\n",
    "\n",
    "        self.linears = nn.Sequential(\n",
    "            nn.Linear(128, 64),\n",
    "            nn.ReLU(),\n",
    "            nn.Dropout(p=0.01),\n",
    "            nn.Linear(64, 2)\n",
    "        )\n",
    "\n",
    "    def forward(self, x):\n",
    "        out = x.view(x.size(0), x.size(1), -1)\n",
    "        out = self.features(out)\n",
    "        out = out.view(out.size(0), -1)\n",
    "        out = self.linears(out)\n",
    "        return out"
   ]
  },
  {
   "cell_type": "code",
   "execution_count": 32,
   "id": "c68582c3d48f861a",
   "metadata": {
    "ExecuteTime": {
     "end_time": "2023-11-25T04:46:04.194369500Z",
     "start_time": "2023-11-25T04:46:04.066435700Z"
    },
    "collapsed": false
   },
   "outputs": [],
   "source": [
    "def train(\n",
    "    model, train_loader, criterion, optimizer, scheduler, val_loader=None, epochs=50\n",
    "):\n",
    "    # 训练过程记录\n",
    "    train_loss_list = []\n",
    "    val_loss_list = []\n",
    "\n",
    "    with tqdm(total=epochs, desc=\"Training Progress\", unit=\"epoch\") as pbar_epochs:\n",
    "        for epoch in range(epochs):\n",
    "            model.train()\n",
    "            train_loss = 0.0\n",
    "            for inputs, labels in train_loader:\n",
    "                inputs = inputs.to(device)\n",
    "                labels = labels.to(device)\n",
    "                optimizer.zero_grad()\n",
    "                outputs = model(inputs)\n",
    "                loss = criterion(outputs, labels)\n",
    "                loss.backward()\n",
    "                optimizer.step()\n",
    "                train_loss += loss.item()\n",
    "            train_loss /= len(train_loader)\n",
    "            train_loss_list.append(train_loss)\n",
    "\n",
    "            if val_loader:\n",
    "                model.eval()\n",
    "                val_loss = 0.0\n",
    "                with torch.no_grad():\n",
    "                    for inputs, labels in val_loader:\n",
    "                        inputs = inputs.to(device)\n",
    "                        labels = labels.to(device)\n",
    "                        output = model(inputs)\n",
    "                        loss = criterion(output, labels)\n",
    "                        val_loss += loss.item()\n",
    "                val_loss /= len(val_loader)\n",
    "                val_loss_list.append(val_loss)\n",
    "\n",
    "            if val_loader:\n",
    "                pbar_epochs.set_postfix(\n",
    "                    {\n",
    "                        \"train MSE Loss\": train_loss,\n",
    "                        \"train score\": calScore(train_loss),\n",
    "                        \"val MSE Loss\": val_loss,\n",
    "                        \"val score\": calScore(val_loss),\n",
    "                    }\n",
    "                )\n",
    "            else:\n",
    "                pbar_epochs.set_postfix(\n",
    "                    {\"train MSE Loss\": train_loss, \"train score\": calScore(train_loss)}\n",
    "                )\n",
    "            pbar_epochs.update(1)\n",
    "            scheduler.step()\n",
    "\n",
    "    # 可视化训练过程\n",
    "    plt.figure()\n",
    "    plt.plot(train_loss_list, label=\"train loss\")\n",
    "    if val_loader:\n",
    "        plt.plot(val_loss_list, label=\"val loss\")\n",
    "    plt.xlabel(\"epoch\")\n",
    "    plt.ylabel(\"MSE loss\")\n",
    "    plt.legend()"
   ]
  },
  {
   "cell_type": "code",
   "execution_count": 33,
   "id": "34782eaf2beacea5",
   "metadata": {
    "ExecuteTime": {
     "end_time": "2023-11-25T04:46:04.194369500Z",
     "start_time": "2023-11-25T04:46:04.077806400Z"
    },
    "collapsed": false
   },
   "outputs": [],
   "source": [
    "def predict(model, test_data):\n",
    "    model.eval()\n",
    "    with torch.no_grad():\n",
    "        outputs = model(test_data)\n",
    "    return outputs"
   ]
  },
  {
   "cell_type": "code",
   "execution_count": 34,
   "id": "465b9a88e56feae9",
   "metadata": {
    "ExecuteTime": {
     "end_time": "2023-11-25T04:46:05.007014100Z",
     "start_time": "2023-11-25T04:46:04.092810Z"
    },
    "collapsed": false
   },
   "outputs": [
    {
     "name": "stdout",
     "output_type": "stream",
     "text": [
      "(102600, 38)\n",
      "(4560, 36)\n",
      "<class 'numpy.ndarray'>\n"
     ]
    }
   ],
   "source": [
    "from sklearn.preprocessing import RobustScaler\n",
    "import numpy as np\n",
    "\n",
    "d = get_train_data()\n",
    "t = get_test_data()\n",
    "ans = []\n",
    "data = d.iloc[:, 1:]\n",
    "test = t.iloc[:, 1:]\n",
    "# X = data.iloc[:, 1:37]\n",
    "# X=RobustScaler().fit_transform(X)\n",
    "scaler = RobustScaler()\n",
    "# data=RobustScaler().fit_transform(data)\n",
    "data.iloc[:, :36] = scaler.fit_transform(data.iloc[:, :36])\n",
    "data = data.values\n",
    "test = scaler.transform(test)\n",
    "# y = data.iloc[:, 37:]\n",
    "# y = np.array(y.values)\n",
    "# scaler = StandardScaler()\n",
    "# y = scaler.fit_transform(y)\n",
    "\n",
    "print(data.shape)\n",
    "print(test.shape)\n",
    "print(type(data))"
   ]
  },
  {
   "cell_type": "code",
   "execution_count": 35,
   "metadata": {},
   "outputs": [
    {
     "data": {
      "text/plain": [
       "(102600, 38)"
      ]
     },
     "execution_count": 35,
     "metadata": {},
     "output_type": "execute_result"
    }
   ],
   "source": [
    "data.shape"
   ]
  },
  {
   "cell_type": "code",
   "execution_count": 36,
   "id": "9e62bc020195eb22",
   "metadata": {
    "ExecuteTime": {
     "end_time": "2023-11-25T04:46:05.086707200Z",
     "start_time": "2023-11-25T04:46:04.993915Z"
    },
    "collapsed": false
   },
   "outputs": [],
   "source": [
    "# 划分训练集和验证集，使用sklearn的train_test_split函数\n",
    "from sklearn.model_selection import train_test_split\n",
    "\n",
    "train_data, val = train_test_split(data, test_size=0.2, random_state=42)\n",
    "val, my_test = train_test_split(val, test_size=0.5, random_state=43)"
   ]
  },
  {
   "cell_type": "code",
   "execution_count": 37,
   "id": "66a8ae6af5d7ef05",
   "metadata": {
    "ExecuteTime": {
     "end_time": "2023-11-25T04:46:05.086707200Z",
     "start_time": "2023-11-25T04:46:05.074569800Z"
    },
    "collapsed": false
   },
   "outputs": [],
   "source": [
    "train_x = train_data[:, :36]\n",
    "train_y = train_data[:, 36:]\n",
    "val_x = val[:, :36]\n",
    "val_y = val[:, 36:]\n",
    "my_test_x = my_test[:, :36]\n",
    "my_test_y = my_test[:, 36:]"
   ]
  },
  {
   "cell_type": "code",
   "execution_count": 38,
   "id": "de4a887111d62039",
   "metadata": {
    "ExecuteTime": {
     "end_time": "2023-11-25T04:46:05.104790300Z",
     "start_time": "2023-11-25T04:46:05.086707200Z"
    },
    "collapsed": false
   },
   "outputs": [
    {
     "name": "stdout",
     "output_type": "stream",
     "text": [
      "(82080, 36)\n",
      "(82080, 2)\n",
      "(10260, 36)\n",
      "(10260, 2)\n",
      "(10260, 36)\n",
      "(10260, 2)\n"
     ]
    }
   ],
   "source": [
    "print(train_x.shape)\n",
    "print(train_y.shape)\n",
    "print(val_x.shape)\n",
    "print(val_y.shape)\n",
    "print(my_test_x.shape)\n",
    "print(my_test_y.shape)"
   ]
  },
  {
   "cell_type": "code",
   "execution_count": 39,
   "id": "6a22be75b7474160",
   "metadata": {
    "ExecuteTime": {
     "end_time": "2023-11-25T04:47:36.983053Z",
     "start_time": "2023-11-25T04:46:05.104790300Z"
    },
    "collapsed": false
   },
   "outputs": [
    {
     "name": "stderr",
     "output_type": "stream",
     "text": [
      "Training Progress: 100%|██████████| 30/30 [00:45<00:00,  1.52s/epoch, train MSE Loss=2.11, train score=0.327, val MSE Loss=0.906, val score=0.426] \n"
     ]
    },
    {
     "data": {
      "image/png": "[encoded data removed]",
      "text/plain": [
       "<Figure size 640x480 with 1 Axes>"
      ]
     },
     "metadata": {},
     "output_type": "display_data"
    }
   ],
   "source": [
    "model = CNN().to(device)\n",
    "\n",
    "# 定义损失函数和优化器\n",
    "criterion = nn.MSELoss().to(device)\n",
    "# optimizer = optim.SGD(model.parameters(), lr=0.001, weight_decay=1e-5)\n",
    "optimizer = optim.Adam(model.parameters(), lr=0.001, weight_decay=0.0001)\n",
    "scheduler = optim.lr_scheduler.StepLR(optimizer, step_size=30, gamma=0.5)\n",
    "\n",
    "X_train = torch.Tensor(train_x)\n",
    "X_test = torch.Tensor(test)\n",
    "y_train = torch.Tensor(train_y)\n",
    "X_val = torch.Tensor(val_x)\n",
    "y_val = torch.Tensor(val_y)\n",
    "X_my_test = torch.Tensor(my_test_x)\n",
    "y_my_test = torch.Tensor(my_test_y)\n",
    "\n",
    "batch_size = 256\n",
    "epoch_num = 30\n",
    "\n",
    "train_dataset = TensorDataset(X_train, y_train)\n",
    "train_loader = DataLoader(train_dataset, batch_size=batch_size, shuffle=True)\n",
    "val_dataset = TensorDataset(X_val, y_val)\n",
    "val_loader = DataLoader(val_dataset, batch_size=batch_size, shuffle=True)\n",
    "\n",
    "train(\n",
    "    model,\n",
    "    train_loader,\n",
    "    criterion,\n",
    "    optimizer,\n",
    "    scheduler,\n",
    "    val_loader=val_loader,\n",
    "    epochs=epoch_num,\n",
    ")"
   ]
  },
  {
   "cell_type": "code",
   "execution_count": 57,
   "id": "79a8819d8a82c4ce",
   "metadata": {
    "ExecuteTime": {
     "end_time": "2023-11-25T04:47:42.216825300Z",
     "start_time": "2023-11-25T04:47:36.969050400Z"
    },
    "collapsed": false
   },
   "outputs": [],
   "source": [
    "my_test_dataset = TensorDataset(X_my_test)\n",
    "my_test_loader = DataLoader(my_test_dataset)\n",
    "# 进行预测\n",
    "predictions = []\n",
    "for test_data in my_test_loader:\n",
    "    td = test_data[0].to(device)\n",
    "    pred = predict(model, td)\n",
    "    predictions.append(pred.cpu())"
   ]
  },
  {
   "cell_type": "code",
   "execution_count": 58,
   "id": "f34ea9b9fcec8636",
   "metadata": {
    "ExecuteTime": {
     "end_time": "2023-11-25T04:47:42.292355500Z",
     "start_time": "2023-11-25T04:47:42.222330600Z"
    },
    "collapsed": false
   },
   "outputs": [
    {
     "name": "stdout",
     "output_type": "stream",
     "text": [
      "[[67.63544  66.018166]\n",
      " [66.80914  65.38296 ]\n",
      " [73.164536 82.24338 ]\n",
      " ...\n",
      " [68.09365  65.8618  ]\n",
      " [71.03061  75.38022 ]\n",
      " [67.66655  61.92884 ]]\n"
     ]
    }
   ],
   "source": [
    "p = torch.cat(predictions, dim=0).numpy()\n",
    "# p = torch.tensor(RobustScaler().inverse_transform(p)).numpy()\n",
    "print(p)"
   ]
  },
  {
   "cell_type": "code",
   "execution_count": 59,
   "id": "2ef239a715d14a92",
   "metadata": {
    "ExecuteTime": {
     "end_time": "2023-11-25T04:47:42.319869Z",
     "start_time": "2023-11-25T04:47:42.252678Z"
    },
    "collapsed": false
   },
   "outputs": [
    {
     "name": "stdout",
     "output_type": "stream",
     "text": [
      "0.46613651301639525\n"
     ]
    }
   ],
   "source": [
    "mse = np.mean((my_test_y - p) ** 2)\n",
    "score = calScore(mse)\n",
    "print(score)"
   ]
  },
  {
   "cell_type": "code",
   "execution_count": 60,
   "metadata": {},
   "outputs": [
    {
     "data": {
      "text/plain": [
       "torch.Size([4560, 36])"
      ]
     },
     "execution_count": 60,
     "metadata": {},
     "output_type": "execute_result"
    }
   ],
   "source": [
    "X_test.shape"
   ]
  },
  {
   "cell_type": "code",
   "execution_count": 61,
   "id": "27cb097e2ca54c76",
   "metadata": {
    "ExecuteTime": {
     "end_time": "2023-11-25T04:47:44.586882800Z",
     "start_time": "2023-11-25T04:47:42.265995600Z"
    },
    "collapsed": false
   },
   "outputs": [],
   "source": [
    "test_dataset = TensorDataset(X_test)\n",
    "test_loader = DataLoader(test_dataset)\n",
    "\n",
    "# 进行预测\n",
    "predictions = []\n",
    "for test_data in test_loader:\n",
    "    td = test_data[0].to(device)    \n",
    "    pred = predict(model, td)\n",
    "    predictions.append(pred.cpu())"
   ]
  },
  {
   "cell_type": "code",
   "execution_count": 62,
   "id": "a8223ac058f7769d",
   "metadata": {
    "ExecuteTime": {
     "end_time": "2023-11-25T04:47:44.609202Z",
     "start_time": "2023-11-25T04:47:44.587887Z"
    },
    "collapsed": false
   },
   "outputs": [
    {
     "name": "stdout",
     "output_type": "stream",
     "text": [
      "(4560, 2)\n",
      "[68.6809  60.45418]\n"
     ]
    }
   ],
   "source": [
    "# 将包含 PyTorch Tensor 的列表连接成一个 4560x2 的矩阵\n",
    "p = torch.cat(predictions, dim=0).numpy()\n",
    "# 打印矩阵的形状和第一个元素\n",
    "print(p.shape)\n",
    "print(p[0])"
   ]
  },
  {
   "cell_type": "code",
   "execution_count": 55,
   "id": "7cee654731034026",
   "metadata": {
    "ExecuteTime": {
     "end_time": "2023-11-25T04:47:44.815107100Z",
     "start_time": "2023-11-25T04:47:44.609202Z"
    },
    "collapsed": false
   },
   "outputs": [
    {
     "name": "stdout",
     "output_type": "stream",
     "text": [
      "finished\n"
     ]
    }
   ],
   "source": [
    "ans = []\n",
    "for i in range(len(p)):\n",
    "    s = str(t[\"geohash_id\"].iloc[i])\n",
    "    s += \"\\t\"\n",
    "    s += str(p[i][1])\n",
    "    s += \"\\t\"\n",
    "    s += str(p[i][0])\n",
    "    s += \"\\t\"\n",
    "    s += str(t[\"date_id\"].iloc[i])\n",
    "    ans.append(s)\n",
    "\n",
    "df = pd.DataFrame(\n",
    "    data=ans, columns=[\"geohash_id\\tconsumption_level\\tactivity_level\\tdate_id\"]\n",
    ")\n",
    "df.to_csv(\"output/CNN.csv\", index=False)\n",
    "print(\"finished\")"
   ]
  }
 ],
 "metadata": {
  "kernelspec": {
   "display_name": "Python 3",
   "language": "python",
   "name": "python3"
  },
  "language_info": {
   "codemirror_mode": {
    "name": "ipython",
    "version": 3
   },
   "file_extension": ".py",
   "mimetype": "text/x-python",
   "name": "python",
   "nbconvert_exporter": "python",
   "pygments_lexer": "ipython3",
   "version": "3.10.13"
  }
 },
 "nbformat": 4,
 "nbformat_minor": 5
}
