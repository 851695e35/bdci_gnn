{
 "cells": [
  {
   "cell_type": "code",
   "execution_count": 1,
   "id": "114502f6",
   "metadata": {},
   "outputs": [],
   "source": [
    "import torch\n",
    "import torch.nn as nn\n",
    "import torch.optim as optim\n",
    "from torch.utils.data import DataLoader\n",
    "import torch_geometric.nn as gnn\n",
    "import pickle\n",
    "from tqdm import tqdm\n",
    "import numpy as np\n",
    "from torch.functional import F\n",
    "import matplotlib.pyplot as plt\n",
    "\n",
    "\n",
    "with open(\"data/train_graphs_data.pkl\", \"rb\") as file:\n",
    "    all_graphs = pickle.load(file)\n",
    "    file.close()"
   ]
  },
  {
   "cell_type": "code",
   "execution_count": 2,
   "id": "f1ca495b",
   "metadata": {},
   "outputs": [
    {
     "data": {
      "text/plain": [
       "(90,\n",
       " Data(x=[1140, 33], edge_index=[2, 11709], edge_attr=[11709, 2], y=[1140, 2]),\n",
       " tensor([-0.2741, -0.6940]))"
      ]
     },
     "execution_count": 2,
     "metadata": {},
     "output_type": "execute_result"
    }
   ],
   "source": [
    "len(all_graphs), all_graphs[0], all_graphs[0].y[0]"
   ]
  },
  {
   "cell_type": "markdown",
   "id": "1d346f81",
   "metadata": {},
   "source": [
    "# 制作模型"
   ]
  },
  {
   "cell_type": "markdown",
   "id": "7817efc5",
   "metadata": {},
   "source": [
    "### SAGE用于对图进行embedding"
   ]
  },
  {
   "cell_type": "code",
   "execution_count": 3,
   "id": "b3d10089",
   "metadata": {},
   "outputs": [],
   "source": [
    "class SAGEModel(nn.Module):\n",
    "    def __init__(self, input_size, output_size):\n",
    "        super(SAGEModel, self).__init__()\n",
    "\n",
    "        edge_dim = 8\n",
    "\n",
    "        self.graph_features = nn.ModuleList(\n",
    "            [\n",
    "                gnn.GATv2Conv(input_size, 128, heads=2, edge_dim=edge_dim),\n",
    "                nn.LayerNorm(128 * 2),\n",
    "                nn.ReLU(),\n",
    "                gnn.GATv2Conv(128 * 2, 128, heads=2, edge_dim=edge_dim),\n",
    "                nn.LayerNorm(128 * 2),\n",
    "                nn.ReLU(),\n",
    "                gnn.SAGEConv(128 * 2, 128),\n",
    "                nn.LayerNorm(128),\n",
    "                nn.ReLU(),\n",
    "                gnn.SAGEConv(128, 128),\n",
    "                nn.LayerNorm(128),\n",
    "                nn.ReLU(),\n",
    "                # nn.Dropout(0.1),\n",
    "            ]\n",
    "        )\n",
    "\n",
    "        # 考虑更多的trick，如layernorm等等\n",
    "        self.regression = nn.Sequential(\n",
    "            nn.Linear(128, 64),\n",
    "            nn.LayerNorm(64),\n",
    "            nn.ReLU(),\n",
    "            nn.Linear(64, 64),\n",
    "            nn.LayerNorm(64),\n",
    "            nn.ReLU(),\n",
    "            nn.Linear(64, output_size),\n",
    "        )\n",
    "\n",
    "        self.edge_linear = nn.Sequential(\n",
    "            nn.Linear(2, 16),\n",
    "            nn.LayerNorm(16),\n",
    "            nn.ReLU(),\n",
    "            nn.Linear(16, 16),\n",
    "            nn.LayerNorm(16),\n",
    "            nn.ReLU(),\n",
    "            nn.Linear(16, edge_dim),\n",
    "        )\n",
    "\n",
    "    def forward(self, data):\n",
    "        x, edge_index, edge_raw_attr = data.x, data.edge_index, data.edge_attr\n",
    "\n",
    "        output = x\n",
    "\n",
    "        edge_attr = self.edge_linear(edge_raw_attr)\n",
    "\n",
    "        for layer in self.graph_features:\n",
    "            if isinstance(layer, gnn.GATv2Conv):\n",
    "                output = layer(output, edge_index, edge_attr)\n",
    "            elif isinstance(layer, gnn.SAGEConv):\n",
    "                output = layer(output, edge_index)\n",
    "            else:\n",
    "                output = layer(output)\n",
    "\n",
    "        output = self.regression(output)\n",
    "\n",
    "        return output"
   ]
  },
  {
   "cell_type": "code",
   "execution_count": 4,
   "id": "025879d5",
   "metadata": {},
   "outputs": [
    {
     "data": {
      "text/plain": [
       "torch.Size([1140, 64])"
      ]
     },
     "execution_count": 4,
     "metadata": {},
     "output_type": "execute_result"
    }
   ],
   "source": [
    "# 看看模型的输入输出\n",
    "model = SAGEModel(input_size=33, output_size=64)\n",
    "output = model(all_graphs[0])\n",
    "output.shape"
   ]
  },
  {
   "cell_type": "markdown",
   "id": "93d45937",
   "metadata": {},
   "source": [
    "### LSTM用于串联每个节点的embedding，并计算回归值\n",
    "\n",
    "输入：x.shape = (1140, seq_len, 节点feature_size)\n",
    "\n",
    "输出：out.shape = (1140, 2)\n",
    "\n",
    "输出是seq_len中的最后一项的回归值\n",
    "\n",
    "**注意：第一个维度只能是1140，而不能自定义batch_size，因为图模型跑完以后会得到整张图的embedding**\n",
    "\n",
    "如果选取一小部分放进lstm，SAGE+LSTM模型的forward函数将变得很难写"
   ]
  },
  {
   "cell_type": "code",
   "execution_count": 5,
   "id": "aa98d623",
   "metadata": {},
   "outputs": [],
   "source": [
    "class LSTMModel(nn.Module):\n",
    "    def __init__(self, input_size, output_size):\n",
    "        super(LSTMModel, self).__init__()\n",
    "        self.input_size = input_size\n",
    "        self.output_size = output_size\n",
    "\n",
    "        self.features = nn.Sequential(\n",
    "            nn.LSTM(\n",
    "                input_size=input_size,\n",
    "                hidden_size=64,\n",
    "                num_layers=1,\n",
    "                batch_first=True,\n",
    "            ),\n",
    "        )\n",
    "\n",
    "        self.linears = nn.Sequential(\n",
    "            nn.LayerNorm(64),\n",
    "            nn.ReLU(),\n",
    "            nn.Linear(64, 64),\n",
    "            nn.LayerNorm(64),\n",
    "            nn.ReLU(),\n",
    "            nn.Linear(64, 32),\n",
    "            nn.LayerNorm(32),\n",
    "            nn.ReLU(),\n",
    "            nn.Linear(32, output_size),\n",
    "        )\n",
    "\n",
    "    def forward(self, x):\n",
    "        _, (hn, _) = self.features(x)\n",
    "        out = self.linears(hn[-1])\n",
    "\n",
    "        return out"
   ]
  },
  {
   "cell_type": "code",
   "execution_count": 6,
   "id": "ea509072",
   "metadata": {},
   "outputs": [],
   "source": [
    "# lstm_input = np.array([g.x for g in all_graphs])\n",
    "# # batch放到第一个维度\n",
    "# lstm_input = lstm_input.swapaxes(0, 1)\n",
    "# lstm_input = torch.from_numpy(lstm_input).float()\n",
    "\n",
    "# lstm_input.shape"
   ]
  },
  {
   "cell_type": "code",
   "execution_count": 7,
   "id": "9f366631",
   "metadata": {},
   "outputs": [],
   "source": [
    "# model = LSTMModel(input_size=33, output_size=2)\n",
    "# output = model(lstm_input)\n",
    "# output.shape"
   ]
  },
  {
   "cell_type": "markdown",
   "id": "b25571ee",
   "metadata": {},
   "source": [
    "## 总的模型（下面简称为SL模型）：先图conv，再lstm\n",
    "\n",
    "输入：图列表，长度为LSTM的seq_len\n",
    "\n",
    "输出：[1140, 2] (输入的图列表中的最后一个图的回归值)"
   ]
  },
  {
   "cell_type": "code",
   "execution_count": 8,
   "id": "581a773e",
   "metadata": {},
   "outputs": [],
   "source": [
    "import torch\n",
    "import torch.nn as nn\n",
    "\n",
    "class SAGEandLSTMModel(nn.Module):\n",
    "    def __init__(self, input_size, output_size, hidden_size=64, seq_len=7):\n",
    "        super(SAGEandLSTMModel, self).__init__()\n",
    "        self.input_size = input_size\n",
    "        self.output_size = output_size\n",
    "        self.hidden_size = hidden_size\n",
    "        self.seq_len = seq_len\n",
    "\n",
    "        self.sage = SAGEModel(input_size, hidden_size)\n",
    "        self.dropout = nn.Dropout(0.2)\n",
    "        self.attention = nn.Sequential(\n",
    "            nn.Linear(hidden_size, 1),\n",
    "            nn.Tanh()\n",
    "        )\n",
    "        self.lstm = nn.LSTM(hidden_size, output_size, batch_first=True)\n",
    "\n",
    "    def forward(self, graphs):\n",
    "        # Extract graph embeddings using SAGE\n",
    "        output = torch.stack([self.sage(graph) for graph in graphs], dim=1)\n",
    "        \n",
    "        # Apply attention\n",
    "        attention_weights = self.attention(output)\n",
    "        attention_weights = torch.softmax(attention_weights, dim=1)\n",
    "        output = output * attention_weights\n",
    "        \n",
    "        # Apply dropout\n",
    "        output = self.dropout(output)\n",
    "        \n",
    "        # Reshape output for LSTM\n",
    "        batch_size = output.size(0)\n",
    "        output = output.view(batch_size, self.seq_len, -1)  # Reshape to fit LSTM input\n",
    "        \n",
    "        # Apply LSTM\n",
    "        lstm_output, _ = self.lstm(output)\n",
    "        \n",
    "        return lstm_output\n"
   ]
  },
  {
   "cell_type": "code",
   "execution_count": 9,
   "id": "a83bbb33",
   "metadata": {},
   "outputs": [
    {
     "data": {
      "text/plain": [
       "torch.Size([1140, 90, 2])"
      ]
     },
     "execution_count": 9,
     "metadata": {},
     "output_type": "execute_result"
    }
   ],
   "source": [
    "model = SAGEandLSTMModel(input_size=33, output_size=2)\n",
    "output = model(all_graphs)\n",
    "\n",
    "output.shape"
   ]
  },
  {
   "cell_type": "markdown",
   "id": "47c0fb49",
   "metadata": {},
   "source": [
    "# 制作数据\n",
    "\n",
    "数据需要处理成SL模型需要的格式"
   ]
  },
  {
   "cell_type": "code",
   "execution_count": 10,
   "id": "2b740e10",
   "metadata": {},
   "outputs": [],
   "source": [
    "# 数据全部放到GPU上\n",
    "device = torch.device(\"cuda\" if torch.cuda.is_available() else \"cpu\")\n",
    "graphs = [graph.to(device) for graph in all_graphs]"
   ]
  },
  {
   "cell_type": "code",
   "execution_count": 11,
   "id": "5a6cdca7",
   "metadata": {},
   "outputs": [],
   "source": [
    "def genLSTMData(graphs, seq_len, stride=1):\n",
    "    # graphs：列表，每个元素是一个graph\n",
    "    graph_list = []\n",
    "    for i in range(0, len(graphs) - seq_len + 1, stride):\n",
    "        print(i, i + seq_len)\n",
    "        graph_list.append(graphs[i : i + seq_len])\n",
    "    return graph_list"
   ]
  },
  {
   "cell_type": "code",
   "execution_count": 12,
   "id": "2b834801",
   "metadata": {},
   "outputs": [],
   "source": [
    "seq_len = 7"
   ]
  },
  {
   "cell_type": "code",
   "execution_count": 13,
   "id": "2c5b9b52",
   "metadata": {},
   "outputs": [
    {
     "name": "stdout",
     "output_type": "stream",
     "text": [
      "0 7\n",
      "1 8\n",
      "2 9\n",
      "3 10\n",
      "4 11\n",
      "5 12\n",
      "6 13\n",
      "7 14\n",
      "8 15\n",
      "9 16\n",
      "10 17\n",
      "11 18\n",
      "12 19\n",
      "13 20\n",
      "14 21\n",
      "15 22\n",
      "16 23\n",
      "17 24\n",
      "18 25\n",
      "19 26\n",
      "20 27\n",
      "21 28\n",
      "22 29\n",
      "23 30\n",
      "24 31\n",
      "25 32\n",
      "26 33\n",
      "27 34\n",
      "28 35\n",
      "29 36\n",
      "30 37\n",
      "31 38\n",
      "32 39\n",
      "33 40\n",
      "34 41\n",
      "35 42\n",
      "36 43\n",
      "37 44\n",
      "38 45\n",
      "39 46\n",
      "40 47\n",
      "41 48\n",
      "42 49\n",
      "43 50\n",
      "44 51\n",
      "45 52\n",
      "46 53\n",
      "47 54\n",
      "48 55\n",
      "49 56\n",
      "50 57\n",
      "51 58\n",
      "52 59\n",
      "53 60\n",
      "54 61\n",
      "55 62\n",
      "56 63\n",
      "57 64\n",
      "58 65\n",
      "59 66\n",
      "60 67\n",
      "61 68\n",
      "62 69\n",
      "63 70\n",
      "64 71\n",
      "65 72\n",
      "66 73\n",
      "67 74\n",
      "68 75\n",
      "69 76\n",
      "70 77\n",
      "71 78\n",
      "72 79\n",
      "73 80\n",
      "74 81\n",
      "75 82\n",
      "76 83\n",
      "77 84\n",
      "78 85\n",
      "79 86\n",
      "80 87\n",
      "81 88\n",
      "82 89\n",
      "83 90\n"
     ]
    }
   ],
   "source": [
    "graph_list = genLSTMData(graphs, seq_len=seq_len, stride=1)"
   ]
  },
  {
   "cell_type": "code",
   "execution_count": 14,
   "id": "620e28de",
   "metadata": {},
   "outputs": [
    {
     "data": {
      "text/plain": [
       "(84, 7, 7)"
      ]
     },
     "execution_count": 14,
     "metadata": {},
     "output_type": "execute_result"
    }
   ],
   "source": [
    "len(graph_list), len(graph_list[0]), len(graph_list[-1])"
   ]
  },
  {
   "cell_type": "markdown",
   "id": "338dfca2",
   "metadata": {},
   "source": [
    "### 划分训练测试集"
   ]
  },
  {
   "cell_type": "code",
   "execution_count": 15,
   "id": "0b49dabc",
   "metadata": {},
   "outputs": [],
   "source": [
    "# 划分训练集和验证集，使用sklearn的train_test_split函数\n",
    "from sklearn.model_selection import train_test_split\n",
    "\n",
    "train_graph_list, val_graph_list = train_test_split(graph_list, test_size=0.15)"
   ]
  },
  {
   "cell_type": "markdown",
   "id": "0e1b83ef",
   "metadata": {},
   "source": [
    "# 开始训练"
   ]
  },
  {
   "cell_type": "code",
   "execution_count": 16,
   "id": "bb002ef7",
   "metadata": {},
   "outputs": [
    {
     "data": {
      "text/plain": [
       "(33, 2, 2, device(type='cpu'))"
      ]
     },
     "execution_count": 16,
     "metadata": {},
     "output_type": "execute_result"
    }
   ],
   "source": [
    "input_size = graphs[0].x.shape[1]\n",
    "# 这里的output_size就是最终的输出维度，不需要再乘以num_heads\n",
    "output_size = graphs[0].y.shape[1]\n",
    "# 个人认为，注意力头的个数至少应该等于输出维度，因为每个输出可能需要关注不同的邻居\n",
    "num_heads = graphs[0].y.shape[1]\n",
    "\n",
    "# batch_size = 256\n",
    "input_size, output_size, num_heads, device"
   ]
  },
  {
   "cell_type": "code",
   "execution_count": 17,
   "id": "c1d2aa35",
   "metadata": {},
   "outputs": [],
   "source": [
    "def train(\n",
    "    model,\n",
    "    criterion,\n",
    "    optimizer,\n",
    "    scheduler,\n",
    "    train_graph_list,\n",
    "    val_graph_list=None,\n",
    "    num_epochs=50,\n",
    "):\n",
    "    # 训练过程记录\n",
    "    train_loss_list = []\n",
    "    val_loss_list = []\n",
    "\n",
    "    with tqdm(total=num_epochs, desc=\"Training Progress\", unit=\"epoch\") as pbar_epochs:\n",
    "        for epoch in range(num_epochs):\n",
    "            # 训练\n",
    "            model.train()\n",
    "            train_loss = 0.0\n",
    "\n",
    "            # 图网络不支持batch，只能一个一个图训练\n",
    "            for i, graphs in enumerate(train_graph_list):\n",
    "                output = model(graphs)\n",
    "\n",
    "                optimizer.zero_grad()\n",
    "                loss = criterion(output, graphs[-1].y)\n",
    "                loss.backward()\n",
    "                optimizer.step()\n",
    "\n",
    "                train_loss += loss.item()\n",
    "\n",
    "            train_loss /= len(train_graph_list)\n",
    "            train_loss_list.append(train_loss)\n",
    "\n",
    "            # 验证\n",
    "            if val_graph_list:\n",
    "                model.eval()\n",
    "                with torch.no_grad():\n",
    "                    val_loss = 0.0\n",
    "                    for i, graphs in enumerate(val_graph_list):\n",
    "                        output = model(graphs)\n",
    "                        loss = criterion(output, graphs[-1].y)\n",
    "                        val_loss += loss.item()\n",
    "                    val_loss /= len(val_graph_list)\n",
    "                    val_loss_list.append(val_loss)\n",
    "\n",
    "            if val_graph_list:\n",
    "                pbar_epochs.set_postfix(\n",
    "                    {\"train MSE Loss\": train_loss, \"val MSE Loss\": val_loss}\n",
    "                )\n",
    "            else:\n",
    "                pbar_epochs.set_postfix({\"train MSE Loss\": train_loss})\n",
    "\n",
    "            pbar_epochs.update(1)\n",
    "            # 学习率更新\n",
    "            scheduler.step()\n",
    "\n",
    "    # 可视化训练过程\n",
    "    plt.figure()\n",
    "    plt.plot(train_loss_list, label=\"train loss\")\n",
    "    if val_graph_list:\n",
    "        plt.plot(val_loss_list, label=\"val loss\")\n",
    "    plt.xlabel(\"epoch\")\n",
    "    plt.ylabel(\"MSE loss\")\n",
    "    plt.legend()\n",
    "\n",
    "    return model, train_loss_list, val_loss_list"
   ]
  },
  {
   "cell_type": "code",
   "execution_count": 18,
   "id": "69a73b14",
   "metadata": {},
   "outputs": [
    {
     "name": "stderr",
     "output_type": "stream",
     "text": [
      "Training Progress:   0%|                                 | 0/300 [00:00<?, ?epoch/s]C:\\Users\\starence\\AppData\\Roaming\\Python\\Python39\\site-packages\\torch\\nn\\modules\\loss.py:536: UserWarning: Using a target size (torch.Size([1140, 2])) that is different to the input size (torch.Size([1140, 7, 2])). This will likely lead to incorrect results due to broadcasting. Please ensure they have the same size.\n",
      "  return F.mse_loss(input, target, reduction=self.reduction)\n",
      "Training Progress:   0%|                                 | 0/300 [00:09<?, ?epoch/s]\n"
     ]
    },
    {
     "ename": "RuntimeError",
     "evalue": "The size of tensor a (7) must match the size of tensor b (1140) at non-singleton dimension 1",
     "output_type": "error",
     "traceback": [
      "\u001b[1;31m---------------------------------------------------------------------------\u001b[0m",
      "\u001b[1;31mRuntimeError\u001b[0m                              Traceback (most recent call last)",
      "\u001b[1;32m~\\AppData\\Local\\Temp\\ipykernel_8992\\1583455472.py\u001b[0m in \u001b[0;36m<module>\u001b[1;34m\u001b[0m\n\u001b[0;32m     11\u001b[0m \u001b[0mcriterion\u001b[0m \u001b[1;33m=\u001b[0m \u001b[0mnn\u001b[0m\u001b[1;33m.\u001b[0m\u001b[0mMSELoss\u001b[0m\u001b[1;33m(\u001b[0m\u001b[1;33m)\u001b[0m\u001b[1;33m.\u001b[0m\u001b[0mto\u001b[0m\u001b[1;33m(\u001b[0m\u001b[0mdevice\u001b[0m\u001b[1;33m)\u001b[0m\u001b[1;33m\u001b[0m\u001b[1;33m\u001b[0m\u001b[0m\n\u001b[0;32m     12\u001b[0m \u001b[1;33m\u001b[0m\u001b[0m\n\u001b[1;32m---> 13\u001b[1;33m model, train_loss_list, val_loss_list = train(\n\u001b[0m\u001b[0;32m     14\u001b[0m     \u001b[0mmodel\u001b[0m\u001b[1;33m=\u001b[0m\u001b[0mmodel\u001b[0m\u001b[1;33m,\u001b[0m\u001b[1;33m\u001b[0m\u001b[1;33m\u001b[0m\u001b[0m\n\u001b[0;32m     15\u001b[0m     \u001b[0mcriterion\u001b[0m\u001b[1;33m=\u001b[0m\u001b[0mcriterion\u001b[0m\u001b[1;33m,\u001b[0m\u001b[1;33m\u001b[0m\u001b[1;33m\u001b[0m\u001b[0m\n",
      "\u001b[1;32m~\\AppData\\Local\\Temp\\ipykernel_8992\\692016782.py\u001b[0m in \u001b[0;36mtrain\u001b[1;34m(model, criterion, optimizer, scheduler, train_graph_list, val_graph_list, num_epochs)\u001b[0m\n\u001b[0;32m     23\u001b[0m \u001b[1;33m\u001b[0m\u001b[0m\n\u001b[0;32m     24\u001b[0m                 \u001b[0moptimizer\u001b[0m\u001b[1;33m.\u001b[0m\u001b[0mzero_grad\u001b[0m\u001b[1;33m(\u001b[0m\u001b[1;33m)\u001b[0m\u001b[1;33m\u001b[0m\u001b[1;33m\u001b[0m\u001b[0m\n\u001b[1;32m---> 25\u001b[1;33m                 \u001b[0mloss\u001b[0m \u001b[1;33m=\u001b[0m \u001b[0mcriterion\u001b[0m\u001b[1;33m(\u001b[0m\u001b[0moutput\u001b[0m\u001b[1;33m,\u001b[0m \u001b[0mgraphs\u001b[0m\u001b[1;33m[\u001b[0m\u001b[1;33m-\u001b[0m\u001b[1;36m1\u001b[0m\u001b[1;33m]\u001b[0m\u001b[1;33m.\u001b[0m\u001b[0my\u001b[0m\u001b[1;33m)\u001b[0m\u001b[1;33m\u001b[0m\u001b[1;33m\u001b[0m\u001b[0m\n\u001b[0m\u001b[0;32m     26\u001b[0m                 \u001b[0mloss\u001b[0m\u001b[1;33m.\u001b[0m\u001b[0mbackward\u001b[0m\u001b[1;33m(\u001b[0m\u001b[1;33m)\u001b[0m\u001b[1;33m\u001b[0m\u001b[1;33m\u001b[0m\u001b[0m\n\u001b[0;32m     27\u001b[0m                 \u001b[0moptimizer\u001b[0m\u001b[1;33m.\u001b[0m\u001b[0mstep\u001b[0m\u001b[1;33m(\u001b[0m\u001b[1;33m)\u001b[0m\u001b[1;33m\u001b[0m\u001b[1;33m\u001b[0m\u001b[0m\n",
      "\u001b[1;32m~\\AppData\\Roaming\\Python\\Python39\\site-packages\\torch\\nn\\modules\\module.py\u001b[0m in \u001b[0;36m_call_impl\u001b[1;34m(self, *args, **kwargs)\u001b[0m\n\u001b[0;32m   1499\u001b[0m                 \u001b[1;32mor\u001b[0m \u001b[0m_global_backward_pre_hooks\u001b[0m \u001b[1;32mor\u001b[0m \u001b[0m_global_backward_hooks\u001b[0m\u001b[1;33m\u001b[0m\u001b[1;33m\u001b[0m\u001b[0m\n\u001b[0;32m   1500\u001b[0m                 or _global_forward_hooks or _global_forward_pre_hooks):\n\u001b[1;32m-> 1501\u001b[1;33m             \u001b[1;32mreturn\u001b[0m \u001b[0mforward_call\u001b[0m\u001b[1;33m(\u001b[0m\u001b[1;33m*\u001b[0m\u001b[0margs\u001b[0m\u001b[1;33m,\u001b[0m \u001b[1;33m**\u001b[0m\u001b[0mkwargs\u001b[0m\u001b[1;33m)\u001b[0m\u001b[1;33m\u001b[0m\u001b[1;33m\u001b[0m\u001b[0m\n\u001b[0m\u001b[0;32m   1502\u001b[0m         \u001b[1;31m# Do not call functions when jit is used\u001b[0m\u001b[1;33m\u001b[0m\u001b[1;33m\u001b[0m\u001b[0m\n\u001b[0;32m   1503\u001b[0m         \u001b[0mfull_backward_hooks\u001b[0m\u001b[1;33m,\u001b[0m \u001b[0mnon_full_backward_hooks\u001b[0m \u001b[1;33m=\u001b[0m \u001b[1;33m[\u001b[0m\u001b[1;33m]\u001b[0m\u001b[1;33m,\u001b[0m \u001b[1;33m[\u001b[0m\u001b[1;33m]\u001b[0m\u001b[1;33m\u001b[0m\u001b[1;33m\u001b[0m\u001b[0m\n",
      "\u001b[1;32m~\\AppData\\Roaming\\Python\\Python39\\site-packages\\torch\\nn\\modules\\loss.py\u001b[0m in \u001b[0;36mforward\u001b[1;34m(self, input, target)\u001b[0m\n\u001b[0;32m    534\u001b[0m \u001b[1;33m\u001b[0m\u001b[0m\n\u001b[0;32m    535\u001b[0m     \u001b[1;32mdef\u001b[0m \u001b[0mforward\u001b[0m\u001b[1;33m(\u001b[0m\u001b[0mself\u001b[0m\u001b[1;33m,\u001b[0m \u001b[0minput\u001b[0m\u001b[1;33m:\u001b[0m \u001b[0mTensor\u001b[0m\u001b[1;33m,\u001b[0m \u001b[0mtarget\u001b[0m\u001b[1;33m:\u001b[0m \u001b[0mTensor\u001b[0m\u001b[1;33m)\u001b[0m \u001b[1;33m->\u001b[0m \u001b[0mTensor\u001b[0m\u001b[1;33m:\u001b[0m\u001b[1;33m\u001b[0m\u001b[1;33m\u001b[0m\u001b[0m\n\u001b[1;32m--> 536\u001b[1;33m         \u001b[1;32mreturn\u001b[0m \u001b[0mF\u001b[0m\u001b[1;33m.\u001b[0m\u001b[0mmse_loss\u001b[0m\u001b[1;33m(\u001b[0m\u001b[0minput\u001b[0m\u001b[1;33m,\u001b[0m \u001b[0mtarget\u001b[0m\u001b[1;33m,\u001b[0m \u001b[0mreduction\u001b[0m\u001b[1;33m=\u001b[0m\u001b[0mself\u001b[0m\u001b[1;33m.\u001b[0m\u001b[0mreduction\u001b[0m\u001b[1;33m)\u001b[0m\u001b[1;33m\u001b[0m\u001b[1;33m\u001b[0m\u001b[0m\n\u001b[0m\u001b[0;32m    537\u001b[0m \u001b[1;33m\u001b[0m\u001b[0m\n\u001b[0;32m    538\u001b[0m \u001b[1;33m\u001b[0m\u001b[0m\n",
      "\u001b[1;32m~\\AppData\\Roaming\\Python\\Python39\\site-packages\\torch\\nn\\functional.py\u001b[0m in \u001b[0;36mmse_loss\u001b[1;34m(input, target, size_average, reduce, reduction)\u001b[0m\n\u001b[0;32m   3292\u001b[0m         \u001b[0mreduction\u001b[0m \u001b[1;33m=\u001b[0m \u001b[0m_Reduction\u001b[0m\u001b[1;33m.\u001b[0m\u001b[0mlegacy_get_string\u001b[0m\u001b[1;33m(\u001b[0m\u001b[0msize_average\u001b[0m\u001b[1;33m,\u001b[0m \u001b[0mreduce\u001b[0m\u001b[1;33m)\u001b[0m\u001b[1;33m\u001b[0m\u001b[1;33m\u001b[0m\u001b[0m\n\u001b[0;32m   3293\u001b[0m \u001b[1;33m\u001b[0m\u001b[0m\n\u001b[1;32m-> 3294\u001b[1;33m     \u001b[0mexpanded_input\u001b[0m\u001b[1;33m,\u001b[0m \u001b[0mexpanded_target\u001b[0m \u001b[1;33m=\u001b[0m \u001b[0mtorch\u001b[0m\u001b[1;33m.\u001b[0m\u001b[0mbroadcast_tensors\u001b[0m\u001b[1;33m(\u001b[0m\u001b[0minput\u001b[0m\u001b[1;33m,\u001b[0m \u001b[0mtarget\u001b[0m\u001b[1;33m)\u001b[0m\u001b[1;33m\u001b[0m\u001b[1;33m\u001b[0m\u001b[0m\n\u001b[0m\u001b[0;32m   3295\u001b[0m     \u001b[1;32mreturn\u001b[0m \u001b[0mtorch\u001b[0m\u001b[1;33m.\u001b[0m\u001b[0m_C\u001b[0m\u001b[1;33m.\u001b[0m\u001b[0m_nn\u001b[0m\u001b[1;33m.\u001b[0m\u001b[0mmse_loss\u001b[0m\u001b[1;33m(\u001b[0m\u001b[0mexpanded_input\u001b[0m\u001b[1;33m,\u001b[0m \u001b[0mexpanded_target\u001b[0m\u001b[1;33m,\u001b[0m \u001b[0m_Reduction\u001b[0m\u001b[1;33m.\u001b[0m\u001b[0mget_enum\u001b[0m\u001b[1;33m(\u001b[0m\u001b[0mreduction\u001b[0m\u001b[1;33m)\u001b[0m\u001b[1;33m)\u001b[0m\u001b[1;33m\u001b[0m\u001b[1;33m\u001b[0m\u001b[0m\n\u001b[0;32m   3296\u001b[0m \u001b[1;33m\u001b[0m\u001b[0m\n",
      "\u001b[1;32m~\\AppData\\Roaming\\Python\\Python39\\site-packages\\torch\\functional.py\u001b[0m in \u001b[0;36mbroadcast_tensors\u001b[1;34m(*tensors)\u001b[0m\n\u001b[0;32m     72\u001b[0m     \u001b[1;32mif\u001b[0m \u001b[0mhas_torch_function\u001b[0m\u001b[1;33m(\u001b[0m\u001b[0mtensors\u001b[0m\u001b[1;33m)\u001b[0m\u001b[1;33m:\u001b[0m\u001b[1;33m\u001b[0m\u001b[1;33m\u001b[0m\u001b[0m\n\u001b[0;32m     73\u001b[0m         \u001b[1;32mreturn\u001b[0m \u001b[0mhandle_torch_function\u001b[0m\u001b[1;33m(\u001b[0m\u001b[0mbroadcast_tensors\u001b[0m\u001b[1;33m,\u001b[0m \u001b[0mtensors\u001b[0m\u001b[1;33m,\u001b[0m \u001b[1;33m*\u001b[0m\u001b[0mtensors\u001b[0m\u001b[1;33m)\u001b[0m\u001b[1;33m\u001b[0m\u001b[1;33m\u001b[0m\u001b[0m\n\u001b[1;32m---> 74\u001b[1;33m     \u001b[1;32mreturn\u001b[0m \u001b[0m_VF\u001b[0m\u001b[1;33m.\u001b[0m\u001b[0mbroadcast_tensors\u001b[0m\u001b[1;33m(\u001b[0m\u001b[0mtensors\u001b[0m\u001b[1;33m)\u001b[0m  \u001b[1;31m# type: ignore[attr-defined]\u001b[0m\u001b[1;33m\u001b[0m\u001b[1;33m\u001b[0m\u001b[0m\n\u001b[0m\u001b[0;32m     75\u001b[0m \u001b[1;33m\u001b[0m\u001b[0m\n\u001b[0;32m     76\u001b[0m \u001b[1;33m\u001b[0m\u001b[0m\n",
      "\u001b[1;31mRuntimeError\u001b[0m: The size of tensor a (7) must match the size of tensor b (1140) at non-singleton dimension 1"
     ]
    }
   ],
   "source": [
    "# 定义模型、算法、损失函数\n",
    "model = SAGEandLSTMModel(\n",
    "    input_size=input_size,\n",
    "    output_size=output_size,\n",
    ").to(device)\n",
    "# 考虑是否加入weight_decay\n",
    "optimizer = optim.Adam(model.parameters(), lr=1e-4, weight_decay=3e-5)\n",
    "# 学习率衰减\n",
    "scheduler = optim.lr_scheduler.StepLR(optimizer, step_size=100, gamma=0.3)\n",
    "# criterion = nn.MSELoss(reduction=\"sum\")\n",
    "criterion = nn.MSELoss().to(device)\n",
    "\n",
    "model, train_loss_list, val_loss_list = train(\n",
    "    model=model,\n",
    "    criterion=criterion,\n",
    "    optimizer=optimizer,\n",
    "    scheduler=scheduler,\n",
    "    train_graph_list=train_graph_list,\n",
    "    val_graph_list=val_graph_list,\n",
    "    num_epochs=300,\n",
    ")"
   ]
  },
  {
   "cell_type": "markdown",
   "id": "bd94d890",
   "metadata": {},
   "source": [
    "### 由于数据是通过滑动窗口生成的，所以没必要把所有数据都放进模型训练了，训练集的数据已经很有代表性"
   ]
  },
  {
   "cell_type": "code",
   "execution_count": null,
   "id": "35cf75e9",
   "metadata": {},
   "outputs": [],
   "source": [
    "# # 定义模型、算法、损失函数\n",
    "# model = GATv2Model(\n",
    "#     input_size=input_size,\n",
    "#     output_size=output_size,\n",
    "#     num_heads=num_heads,\n",
    "# ).to(device)\n",
    "# # 考虑是否加入weight_decay\n",
    "# optimizer = optim.Adam(model.parameters(), lr=1e-4)\n",
    "# criterion = nn.MSELoss()\n",
    "\n",
    "# model = train(model, criterion, optimizer, graphs, num_epochs=300)"
   ]
  },
  {
   "cell_type": "code",
   "execution_count": null,
   "id": "aa159c93",
   "metadata": {},
   "outputs": [],
   "source": [
    "# 保存模型\n",
    "model_path = \"saved/models/sage+lstm-2023.11.22.pth\"\n",
    "# 由于模型比较复杂，所以使用torch.save保存整个模型\n",
    "torch.save(model, model_path)"
   ]
  },
  {
   "cell_type": "markdown",
   "id": "3546789e",
   "metadata": {},
   "source": [
    "# 预测"
   ]
  },
  {
   "cell_type": "code",
   "execution_count": null,
   "id": "15e1b8cb",
   "metadata": {},
   "outputs": [],
   "source": [
    "# # 读取模型\n",
    "# model = GATv2Model(\n",
    "#     input_size=input_size,\n",
    "#     output_size=output_size,\n",
    "#     num_heads=num_heads,\n",
    "# ).to(device)\n",
    "# model.load_state_dict(torch.load(model_path))"
   ]
  },
  {
   "cell_type": "code",
   "execution_count": null,
   "id": "e7fc7289",
   "metadata": {},
   "outputs": [],
   "source": [
    "# 读取node_ids\n",
    "with open(\"data/node_ids.pkl\", \"rb\") as file:\n",
    "    node_ids = pickle.load(file)\n",
    "    file.close()"
   ]
  },
  {
   "cell_type": "code",
   "execution_count": null,
   "id": "74522b76",
   "metadata": {},
   "outputs": [],
   "source": [
    "# 读取scaler\n",
    "import pickle\n",
    "\n",
    "with open(\"saved/scaler/label_scaler.pkl\", \"rb\") as file:\n",
    "    label_scaler = pickle.load(file)\n",
    "    file.close()"
   ]
  },
  {
   "cell_type": "code",
   "execution_count": null,
   "id": "d24275db",
   "metadata": {},
   "outputs": [],
   "source": [
    "# 读取测试集\n",
    "with open(\"data/test_graphs_data.pkl\", \"rb\") as file:\n",
    "    test_graphs = pickle.load(file)\n",
    "    file.close()"
   ]
  },
  {
   "cell_type": "code",
   "execution_count": null,
   "id": "66e49204",
   "metadata": {},
   "outputs": [],
   "source": [
    "len(test_graphs), test_graphs[0]"
   ]
  },
  {
   "cell_type": "markdown",
   "id": "d33c0265",
   "metadata": {},
   "source": [
    "### 制造模型需要的数据"
   ]
  },
  {
   "cell_type": "code",
   "execution_count": null,
   "id": "8172f1bb",
   "metadata": {},
   "outputs": [],
   "source": [
    "test_graphs = [graph.to(device) for graph in test_graphs]"
   ]
  },
  {
   "cell_type": "code",
   "execution_count": null,
   "id": "1b5db4f8",
   "metadata": {},
   "outputs": [],
   "source": [
    "test_graph_list = genLSTMData(\n",
    "    graphs[-seq_len + 1 :] + test_graphs, seq_len=seq_len, stride=1\n",
    ")\n",
    "len(test_graph_list)"
   ]
  },
  {
   "cell_type": "markdown",
   "id": "690ff186",
   "metadata": {},
   "source": [
    "预测"
   ]
  },
  {
   "cell_type": "code",
   "execution_count": null,
   "id": "e65baa5f",
   "metadata": {},
   "outputs": [],
   "source": [
    "model.eval()\n",
    "output_list = []\n",
    "with torch.no_grad():\n",
    "    for i, graphs in enumerate(test_graph_list):\n",
    "        output = model(graphs)\n",
    "        output_list.append(output.detach().cpu().numpy())"
   ]
  },
  {
   "cell_type": "code",
   "execution_count": null,
   "id": "012b2aaf",
   "metadata": {},
   "outputs": [],
   "source": [
    "len(output_list), output_list[0].shape, output_list[0][0]"
   ]
  },
  {
   "cell_type": "code",
   "execution_count": null,
   "id": "fde62901",
   "metadata": {},
   "outputs": [],
   "source": [
    "# 缩放\n",
    "output_list = [label_scaler.inverse_transform(output) for output in output_list]"
   ]
  },
  {
   "cell_type": "code",
   "execution_count": null,
   "id": "184a3491",
   "metadata": {},
   "outputs": [],
   "source": [
    "# 看看是不是缩放完成啦\n",
    "output_list[0][0]"
   ]
  },
  {
   "cell_type": "markdown",
   "id": "f4051072",
   "metadata": {},
   "source": [
    "### 把输出转成需要的格式"
   ]
  },
  {
   "cell_type": "code",
   "execution_count": null,
   "id": "d7442fae",
   "metadata": {},
   "outputs": [],
   "source": [
    "import csv\n",
    "\n",
    "# 结果写入csv，分隔符为\\t\n",
    "output_path = \"output/sgae+lstm.csv\"\n",
    "\n",
    "date_id = [20230404, 20230405, 20230406, 20230407]\n",
    "with open(output_path, \"w\", newline=\"\") as f:\n",
    "    writer = csv.writer(f, delimiter=\"\\t\")  # 设置分隔符为制表符\n",
    "    writer.writerow([\"geohash_id\", \"consumption_level\", \"activity_level\", \"date_id\"])\n",
    "\n",
    "    # output_list.shape = [4天, 节点数, 2个输出]\n",
    "    for nidx in range(len(node_ids)):\n",
    "        for day in range(len(date_id)):\n",
    "            # 注意不要写反了\n",
    "            writer.writerow(\n",
    "                [\n",
    "                    node_ids[nidx],\n",
    "                    output_list[day][nidx][1],\n",
    "                    output_list[day][nidx][0],\n",
    "                    date_id[day],\n",
    "                ]\n",
    "            )\n",
    "    f.close()"
   ]
  }
 ],
 "metadata": {
  "kernelspec": {
   "display_name": "Python 3 (ipykernel)",
   "language": "python",
   "name": "python3"
  },
  "language_info": {
   "codemirror_mode": {
    "name": "ipython",
    "version": 3
   },
   "file_extension": ".py",
   "mimetype": "text/x-python",
   "name": "python",
   "nbconvert_exporter": "python",
   "pygments_lexer": "ipython3",
   "version": "3.9.13"
  }
 },
 "nbformat": 4,
 "nbformat_minor": 5
}
