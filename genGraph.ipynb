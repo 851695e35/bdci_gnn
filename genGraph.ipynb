{
 "cells": [
  {
   "cell_type": "code",
   "execution_count": 2,
   "metadata": {},
   "outputs": [
    {
     "name": "stderr",
     "output_type": "stream",
     "text": [
      "/home/liqiang/software/miniconda3/envs/pyg/lib/python3.10/site-packages/tqdm/auto.py:21: TqdmWarning: IProgress not found. Please update jupyter and ipywidgets. See https://ipywidgets.readthedocs.io/en/stable/user_install.html\n",
      "  from .autonotebook import tqdm as notebook_tqdm\n"
     ]
    }
   ],
   "source": [
    "import pandas as pd\n",
    "import torch\n",
    "import numpy as np\n",
    "from sklearn.preprocessing import StandardScaler\n",
    "from torch_geometric.data import Data\n",
    "import pickle"
   ]
  },
  {
   "cell_type": "markdown",
   "metadata": {},
   "source": [
    "# 读取dataframe并且处理一下"
   ]
  },
  {
   "cell_type": "markdown",
   "metadata": {},
   "source": [
    "读节点"
   ]
  },
  {
   "cell_type": "code",
   "execution_count": 3,
   "metadata": {},
   "outputs": [],
   "source": [
    "# 读取node\n",
    "node_df_train = pd.read_csv(\"data/raw/train_90.csv\")\n",
    "# 删除全0列\n",
    "drop_c = [\"F_23\", \"F_27\"]\n",
    "node_df_train.drop(drop_c, axis=1, inplace=True)\n",
    "node_ids = node_df_train[\"geohash_id\"].unique().tolist()"
   ]
  },
  {
   "cell_type": "code",
   "execution_count": 4,
   "metadata": {},
   "outputs": [
    {
     "data": {
      "text/plain": [
       "1"
      ]
     },
     "execution_count": 4,
     "metadata": {},
     "output_type": "execute_result"
    }
   ],
   "source": [
    "node_ids.index(\"5324516fr\")"
   ]
  },
  {
   "cell_type": "code",
   "execution_count": 5,
   "metadata": {},
   "outputs": [],
   "source": [
    "# 标准化\n",
    "id_and_date_columns = [\"geohash_id\", \"date_id\"]\n",
    "label_columns = [\"active_index\", \"consume_index\"]\n",
    "feature_columns = node_df_train.drop(\n",
    "    id_and_date_columns + label_columns, axis=1\n",
    ").columns\n",
    "\n",
    "feature_scaler = StandardScaler()\n",
    "node_df_train.loc[:, feature_columns] = feature_scaler.fit_transform(\n",
    "    node_df_train[feature_columns]\n",
    ")\n",
    "label_scaler = StandardScaler()\n",
    "node_df_train.loc[:, label_columns] = label_scaler.fit_transform(\n",
    "    node_df_train[label_columns]\n",
    ")"
   ]
  },
  {
   "cell_type": "markdown",
   "metadata": {},
   "source": [
    "读边"
   ]
  },
  {
   "cell_type": "code",
   "execution_count": 6,
   "metadata": {},
   "outputs": [],
   "source": [
    "edge_df_train = pd.read_csv(\"data/raw/edge_90.csv\")"
   ]
  },
  {
   "cell_type": "code",
   "execution_count": 7,
   "metadata": {},
   "outputs": [],
   "source": [
    "# 标准化\n",
    "edge_feature_columns = [\"F_1\", \"F_2\"]\n",
    "edge_feature_scaler = StandardScaler()\n",
    "edge_df_train.loc[:, edge_feature_columns] = edge_feature_scaler.fit_transform(\n",
    "    edge_df_train[edge_feature_columns]\n",
    ")"
   ]
  },
  {
   "cell_type": "markdown",
   "metadata": {},
   "source": [
    "# 建图"
   ]
  },
  {
   "cell_type": "code",
   "execution_count": 8,
   "metadata": {},
   "outputs": [],
   "source": [
    "def buildGraph(node_df, edge_df, is_test_dataset=False):\n",
    "    graphs = []\n",
    "\n",
    "    # 按照date_id分组\n",
    "    for date_id, graph in node_df.groupby(\"date_id\"):\n",
    "        # 节点\n",
    "        x = torch.tensor(graph[feature_columns].values, dtype=torch.float)\n",
    "        if not is_test_dataset:\n",
    "            y = torch.tensor(graph[label_columns].values, dtype=torch.float)\n",
    "\n",
    "        # 边\n",
    "        edge_day_df = edge_df[edge_df[\"date_id\"] == date_id]\n",
    "        edge_index, edge_attr = [], []\n",
    "        for _, edge in edge_day_df.iterrows():\n",
    "            # 边可能给多了，只取存在的\n",
    "            if (\n",
    "                edge[\"geohash6_point1\"] not in node_ids\n",
    "                or edge[\"geohash6_point2\"] not in node_ids\n",
    "            ):\n",
    "                continue\n",
    "            edge_index.append(\n",
    "                [\n",
    "                    node_ids.index(edge[\"geohash6_point1\"]),\n",
    "                    node_ids.index(edge[\"geohash6_point2\"]),\n",
    "                ]\n",
    "            )\n",
    "            edge_attr.append(edge[edge_feature_columns].values.astype(np.float32))\n",
    "        edge_index = (\n",
    "            torch.tensor(np.array(edge_index), dtype=torch.long).t().contiguous()\n",
    "        )\n",
    "        edge_attr = torch.tensor(np.array(edge_attr), dtype=torch.float)\n",
    "\n",
    "        # 图\n",
    "        if is_test_dataset:\n",
    "            graph = Data(x=x, edge_index=edge_index, edge_attr=edge_attr)\n",
    "        else:\n",
    "            graph = Data(x=x, y=y, edge_index=edge_index, edge_attr=edge_attr)\n",
    "        graphs.append(graph)\n",
    "\n",
    "        print(date_id, \"finished\")\n",
    "\n",
    "    return graphs"
   ]
  },
  {
   "cell_type": "code",
   "execution_count": 9,
   "metadata": {},
   "outputs": [
    {
     "name": "stdout",
     "output_type": "stream",
     "text": [
      "20230104 finished\n",
      "20230105 finished\n",
      "20230106 finished\n"
     ]
    },
    {
     "ename": "KeyboardInterrupt",
     "evalue": "",
     "output_type": "error",
     "traceback": [
      "\u001b[0;31m---------------------------------------------------------------------------\u001b[0m",
      "\u001b[0;31mKeyboardInterrupt\u001b[0m                         Traceback (most recent call last)",
      "\u001b[1;32m/home/liqiang/workspace/datamining/datamining_dataset_1110/graph/gat/genGraph.ipynb 单元格 12\u001b[0m line \u001b[0;36m1\n\u001b[0;32m----> <a href='vscode-notebook-cell://ssh-remote%2B10.60.150.62/home/liqiang/workspace/datamining/datamining_dataset_1110/graph/gat/genGraph.ipynb#X14sdnNjb2RlLXJlbW90ZQ%3D%3D?line=0'>1</a>\u001b[0m graphs \u001b[39m=\u001b[39m buildGraph(node_df_train, edge_df_train)\n",
      "\u001b[1;32m/home/liqiang/workspace/datamining/datamining_dataset_1110/graph/gat/genGraph.ipynb 单元格 12\u001b[0m line \u001b[0;36m1\n\u001b[1;32m     <a href='vscode-notebook-cell://ssh-remote%2B10.60.150.62/home/liqiang/workspace/datamining/datamining_dataset_1110/graph/gat/genGraph.ipynb#X14sdnNjb2RlLXJlbW90ZQ%3D%3D?line=12'>13</a>\u001b[0m edge_index, edge_attr \u001b[39m=\u001b[39m [], []\n\u001b[1;32m     <a href='vscode-notebook-cell://ssh-remote%2B10.60.150.62/home/liqiang/workspace/datamining/datamining_dataset_1110/graph/gat/genGraph.ipynb#X14sdnNjb2RlLXJlbW90ZQ%3D%3D?line=13'>14</a>\u001b[0m \u001b[39mfor\u001b[39;00m _, edge \u001b[39min\u001b[39;00m edge_day_df\u001b[39m.\u001b[39miterrows():\n\u001b[1;32m     <a href='vscode-notebook-cell://ssh-remote%2B10.60.150.62/home/liqiang/workspace/datamining/datamining_dataset_1110/graph/gat/genGraph.ipynb#X14sdnNjb2RlLXJlbW90ZQ%3D%3D?line=14'>15</a>\u001b[0m     \u001b[39m# 边可能给多了，只取存在的\u001b[39;00m\n\u001b[1;32m     <a href='vscode-notebook-cell://ssh-remote%2B10.60.150.62/home/liqiang/workspace/datamining/datamining_dataset_1110/graph/gat/genGraph.ipynb#X14sdnNjb2RlLXJlbW90ZQ%3D%3D?line=15'>16</a>\u001b[0m     \u001b[39mif\u001b[39;00m (\n\u001b[1;32m     <a href='vscode-notebook-cell://ssh-remote%2B10.60.150.62/home/liqiang/workspace/datamining/datamining_dataset_1110/graph/gat/genGraph.ipynb#X14sdnNjb2RlLXJlbW90ZQ%3D%3D?line=16'>17</a>\u001b[0m         edge[\u001b[39m\"\u001b[39m\u001b[39mgeohash6_point1\u001b[39m\u001b[39m\"\u001b[39m] \u001b[39mnot\u001b[39;00m \u001b[39min\u001b[39;00m node_ids\n\u001b[0;32m---> <a href='vscode-notebook-cell://ssh-remote%2B10.60.150.62/home/liqiang/workspace/datamining/datamining_dataset_1110/graph/gat/genGraph.ipynb#X14sdnNjb2RlLXJlbW90ZQ%3D%3D?line=17'>18</a>\u001b[0m         \u001b[39mor\u001b[39;00m edge[\u001b[39m\"\u001b[39;49m\u001b[39mgeohash6_point2\u001b[39;49m\u001b[39m\"\u001b[39;49m] \u001b[39mnot\u001b[39;00m \u001b[39min\u001b[39;00m node_ids\n\u001b[1;32m     <a href='vscode-notebook-cell://ssh-remote%2B10.60.150.62/home/liqiang/workspace/datamining/datamining_dataset_1110/graph/gat/genGraph.ipynb#X14sdnNjb2RlLXJlbW90ZQ%3D%3D?line=18'>19</a>\u001b[0m     ):\n\u001b[1;32m     <a href='vscode-notebook-cell://ssh-remote%2B10.60.150.62/home/liqiang/workspace/datamining/datamining_dataset_1110/graph/gat/genGraph.ipynb#X14sdnNjb2RlLXJlbW90ZQ%3D%3D?line=19'>20</a>\u001b[0m         \u001b[39mcontinue\u001b[39;00m\n\u001b[1;32m     <a href='vscode-notebook-cell://ssh-remote%2B10.60.150.62/home/liqiang/workspace/datamining/datamining_dataset_1110/graph/gat/genGraph.ipynb#X14sdnNjb2RlLXJlbW90ZQ%3D%3D?line=20'>21</a>\u001b[0m     edge_index\u001b[39m.\u001b[39mappend(\n\u001b[1;32m     <a href='vscode-notebook-cell://ssh-remote%2B10.60.150.62/home/liqiang/workspace/datamining/datamining_dataset_1110/graph/gat/genGraph.ipynb#X14sdnNjb2RlLXJlbW90ZQ%3D%3D?line=21'>22</a>\u001b[0m         [\n\u001b[1;32m     <a href='vscode-notebook-cell://ssh-remote%2B10.60.150.62/home/liqiang/workspace/datamining/datamining_dataset_1110/graph/gat/genGraph.ipynb#X14sdnNjb2RlLXJlbW90ZQ%3D%3D?line=22'>23</a>\u001b[0m             node_ids\u001b[39m.\u001b[39mindex(edge[\u001b[39m\"\u001b[39m\u001b[39mgeohash6_point1\u001b[39m\u001b[39m\"\u001b[39m]),\n\u001b[1;32m     <a href='vscode-notebook-cell://ssh-remote%2B10.60.150.62/home/liqiang/workspace/datamining/datamining_dataset_1110/graph/gat/genGraph.ipynb#X14sdnNjb2RlLXJlbW90ZQ%3D%3D?line=23'>24</a>\u001b[0m             node_ids\u001b[39m.\u001b[39mindex(edge[\u001b[39m\"\u001b[39m\u001b[39mgeohash6_point2\u001b[39m\u001b[39m\"\u001b[39m]),\n\u001b[1;32m     <a href='vscode-notebook-cell://ssh-remote%2B10.60.150.62/home/liqiang/workspace/datamining/datamining_dataset_1110/graph/gat/genGraph.ipynb#X14sdnNjb2RlLXJlbW90ZQ%3D%3D?line=24'>25</a>\u001b[0m         ]\n\u001b[1;32m     <a href='vscode-notebook-cell://ssh-remote%2B10.60.150.62/home/liqiang/workspace/datamining/datamining_dataset_1110/graph/gat/genGraph.ipynb#X14sdnNjb2RlLXJlbW90ZQ%3D%3D?line=25'>26</a>\u001b[0m     )\n",
      "File \u001b[0;32m~/software/miniconda3/envs/pyg/lib/python3.10/site-packages/pandas/core/series.py:1017\u001b[0m, in \u001b[0;36mSeries.__getitem__\u001b[0;34m(self, key)\u001b[0m\n\u001b[1;32m   1016\u001b[0m \u001b[39mdef\u001b[39;00m \u001b[39m__getitem__\u001b[39m(\u001b[39mself\u001b[39m, key):\n\u001b[0;32m-> 1017\u001b[0m     check_dict_or_set_indexers(key)\n\u001b[1;32m   1018\u001b[0m     key \u001b[39m=\u001b[39m com\u001b[39m.\u001b[39mapply_if_callable(key, \u001b[39mself\u001b[39m)\n\u001b[1;32m   1020\u001b[0m     \u001b[39mif\u001b[39;00m key \u001b[39mis\u001b[39;00m \u001b[39mEllipsis\u001b[39m:\n",
      "File \u001b[0;32m~/software/miniconda3/envs/pyg/lib/python3.10/site-packages/pandas/core/indexing.py:2678\u001b[0m, in \u001b[0;36mcheck_dict_or_set_indexers\u001b[0;34m(key)\u001b[0m\n\u001b[1;32m   2666\u001b[0m \u001b[39m    \u001b[39m\u001b[39m\"\"\"\u001b[39;00m\n\u001b[1;32m   2667\u001b[0m \u001b[39m    Returns\u001b[39;00m\n\u001b[1;32m   2668\u001b[0m \u001b[39m    -------\u001b[39;00m\n\u001b[1;32m   2669\u001b[0m \u001b[39m    bool\u001b[39;00m\n\u001b[1;32m   2670\u001b[0m \u001b[39m    \"\"\"\u001b[39;00m\n\u001b[1;32m   2671\u001b[0m     \u001b[39mreturn\u001b[39;00m (\n\u001b[1;32m   2672\u001b[0m         obj\u001b[39m.\u001b[39mstart \u001b[39mis\u001b[39;00m \u001b[39mnot\u001b[39;00m \u001b[39mNone\u001b[39;00m\n\u001b[1;32m   2673\u001b[0m         \u001b[39mor\u001b[39;00m obj\u001b[39m.\u001b[39mstop \u001b[39mis\u001b[39;00m \u001b[39mnot\u001b[39;00m \u001b[39mNone\u001b[39;00m\n\u001b[1;32m   2674\u001b[0m         \u001b[39mor\u001b[39;00m (obj\u001b[39m.\u001b[39mstep \u001b[39mis\u001b[39;00m \u001b[39mnot\u001b[39;00m \u001b[39mNone\u001b[39;00m \u001b[39mand\u001b[39;00m obj\u001b[39m.\u001b[39mstep \u001b[39m!=\u001b[39m \u001b[39m1\u001b[39m)\n\u001b[1;32m   2675\u001b[0m     )\n\u001b[0;32m-> 2678\u001b[0m \u001b[39mdef\u001b[39;00m \u001b[39mcheck_dict_or_set_indexers\u001b[39m(key) \u001b[39m-\u001b[39m\u001b[39m>\u001b[39m \u001b[39mNone\u001b[39;00m:\n\u001b[1;32m   2679\u001b[0m \u001b[39m    \u001b[39m\u001b[39m\"\"\"\u001b[39;00m\n\u001b[1;32m   2680\u001b[0m \u001b[39m    Check if the indexer is or contains a dict or set, which is no longer allowed.\u001b[39;00m\n\u001b[1;32m   2681\u001b[0m \u001b[39m    \"\"\"\u001b[39;00m\n\u001b[1;32m   2682\u001b[0m     \u001b[39mif\u001b[39;00m (\n\u001b[1;32m   2683\u001b[0m         \u001b[39misinstance\u001b[39m(key, \u001b[39mset\u001b[39m)\n\u001b[1;32m   2684\u001b[0m         \u001b[39mor\u001b[39;00m \u001b[39misinstance\u001b[39m(key, \u001b[39mtuple\u001b[39m)\n\u001b[1;32m   2685\u001b[0m         \u001b[39mand\u001b[39;00m \u001b[39many\u001b[39m(\u001b[39misinstance\u001b[39m(x, \u001b[39mset\u001b[39m) \u001b[39mfor\u001b[39;00m x \u001b[39min\u001b[39;00m key)\n\u001b[1;32m   2686\u001b[0m     ):\n",
      "\u001b[0;31mKeyboardInterrupt\u001b[0m: "
     ]
    }
   ],
   "source": [
    "graphs = buildGraph(node_df_train, edge_df_train)"
   ]
  },
  {
   "cell_type": "code",
   "execution_count": 11,
   "metadata": {},
   "outputs": [],
   "source": [
    "def saveData(data, path):\n",
    "    with open(path, \"wb\") as file:\n",
    "        pickle.dump(data, file)\n",
    "        file.close()\n",
    "\n",
    "\n",
    "saveData(graphs, \"data/train_graphs_data.pkl\")"
   ]
  },
  {
   "cell_type": "code",
   "execution_count": null,
   "metadata": {},
   "outputs": [],
   "source": [
    "# 保存node_id和index的对应关系\n",
    "saveData(node_ids, \"data/node_ids.pkl\")"
   ]
  },
  {
   "cell_type": "markdown",
   "metadata": {},
   "source": [
    "# 生成训练集图"
   ]
  },
  {
   "cell_type": "markdown",
   "metadata": {},
   "source": [
    "节点"
   ]
  },
  {
   "cell_type": "code",
   "execution_count": null,
   "metadata": {},
   "outputs": [],
   "source": [
    "# 读取node\n",
    "node_df_test = pd.read_csv(\"data/raw/A榜/node_test_4_A.csv\")\n",
    "node_df_test.drop(drop_c, axis=1, inplace=True)\n",
    "with open(\"data/node_ids.pkl\", \"rb\") as file:\n",
    "    # 和训练集的node_ids保持一致\n",
    "    node_ids = pickle.load(file)\n",
    "    file.close()"
   ]
  },
  {
   "cell_type": "code",
   "execution_count": null,
   "metadata": {},
   "outputs": [],
   "source": [
    "# 测试集中有一些不正确的node_id，需要进行转化\n",
    "special_node = {\n",
    "    \"18377236\": \"018377236\",\n",
    "    \"7.45E+07\": \"7449766e1\",\n",
    "    \"9.80E+10\": \"9797336e4\",\n",
    "}\n",
    "node_df_test.replace(special_node, inplace=True)"
   ]
  },
  {
   "cell_type": "code",
   "execution_count": null,
   "metadata": {},
   "outputs": [],
   "source": [
    "# 现在测试集中的node_id都是正确的\n",
    "assert node_df_test[\"geohash_id\"].isin(node_ids).value_counts().item() == len(\n",
    "    node_df_test\n",
    ")"
   ]
  },
  {
   "cell_type": "code",
   "execution_count": null,
   "metadata": {},
   "outputs": [],
   "source": [
    "# 标准化\n",
    "node_df_test.loc[:, feature_columns] = feature_scaler.transform(\n",
    "    node_df_test[feature_columns]\n",
    ")"
   ]
  },
  {
   "cell_type": "markdown",
   "metadata": {},
   "source": [
    "边"
   ]
  },
  {
   "cell_type": "code",
   "execution_count": null,
   "metadata": {},
   "outputs": [],
   "source": [
    "edge_df_test = pd.read_csv(\"data/raw/A榜/edge_test_4_A.csv\")"
   ]
  },
  {
   "cell_type": "code",
   "execution_count": null,
   "metadata": {},
   "outputs": [],
   "source": [
    "# 标准化\n",
    "edge_df_test.loc[:, edge_feature_columns] = edge_feature_scaler.transform(\n",
    "    edge_df_test[edge_feature_columns]\n",
    ")"
   ]
  },
  {
   "cell_type": "markdown",
   "metadata": {},
   "source": [
    "图"
   ]
  },
  {
   "cell_type": "code",
   "execution_count": null,
   "metadata": {},
   "outputs": [
    {
     "name": "stdout",
     "output_type": "stream",
     "text": [
      "20230404 finished\n",
      "20230405 finished\n",
      "20230406 finished\n",
      "20230407 finished\n"
     ]
    }
   ],
   "source": [
    "test_graphs = buildGraph(node_df_test, edge_df_test, is_test_dataset=True)"
   ]
  },
  {
   "cell_type": "code",
   "execution_count": null,
   "metadata": {},
   "outputs": [],
   "source": [
    "saveData(test_graphs, \"data/test_graphs_data.pkl\")"
   ]
  },
  {
   "cell_type": "markdown",
   "metadata": {},
   "source": [
    "# 保存所有标准化器"
   ]
  },
  {
   "cell_type": "code",
   "execution_count": 13,
   "metadata": {},
   "outputs": [],
   "source": [
    "saveData(feature_scaler, \"saved/scaler/feature_scaler.pkl\")\n",
    "saveData(label_scaler, \"saved/scaler/label_scaler.pkl\")\n",
    "saveData(edge_feature_scaler, \"saved/scaler/edge_feature_scaler.pkl\")"
   ]
  }
 ],
 "metadata": {
  "kernelspec": {
   "display_name": "pyg",
   "language": "python",
   "name": "python3"
  },
  "language_info": {
   "codemirror_mode": {
    "name": "ipython",
    "version": 3
   },
   "file_extension": ".py",
   "mimetype": "text/x-python",
   "name": "python",
   "nbconvert_exporter": "python",
   "pygments_lexer": "ipython3",
   "version": "3.10.13"
  }
 },
 "nbformat": 4,
 "nbformat_minor": 2
}
