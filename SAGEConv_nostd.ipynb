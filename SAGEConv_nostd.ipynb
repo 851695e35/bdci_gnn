{
 "cells": [
  {
   "cell_type": "code",
   "execution_count": 160,
   "id": "114502f6",
   "metadata": {},
   "outputs": [],
   "source": [
    "import torch\n",
    "import torch.nn as nn\n",
    "import torch.optim as optim\n",
    "from torch.utils.data import DataLoader\n",
    "import torch_geometric.nn as gnn\n",
    "import pickle\n",
    "from tqdm import tqdm\n",
    "import numpy as np\n",
    "from torch.functional import F\n",
    "import matplotlib.pyplot as plt\n",
    "import math\n",
    "\n",
    "\n",
    "with open(\"data/train_graphs_nostd_data.pkl\", \"rb\") as file:\n",
    "    graphs = pickle.load(file)\n",
    "    file.close()"
   ]
  },
  {
   "cell_type": "code",
   "execution_count": 161,
   "metadata": {},
   "outputs": [
    {
     "data": {
      "text/plain": [
       "(90,\n",
       " Data(x=[1140, 33], edge_index=[2, 11709], edge_attr=[11709, 2], y=[1140, 2]))"
      ]
     },
     "execution_count": 161,
     "metadata": {},
     "output_type": "execute_result"
    }
   ],
   "source": [
    "len(graphs), graphs[0]"
   ]
  },
  {
   "cell_type": "code",
   "execution_count": 162,
   "metadata": {},
   "outputs": [
    {
     "data": {
      "text/plain": [
       "(tensor([69.3060, 63.7800]), tensor([66.5690, 62.3200]))"
      ]
     },
     "execution_count": 162,
     "metadata": {},
     "output_type": "execute_result"
    }
   ],
   "source": [
    "graphs[0].y[0], graphs[-1].y[0]"
   ]
  },
  {
   "cell_type": "code",
   "execution_count": 163,
   "metadata": {},
   "outputs": [
    {
     "data": {
      "text/plain": [
       "(72, 9, 9)"
      ]
     },
     "execution_count": 163,
     "metadata": {},
     "output_type": "execute_result"
    }
   ],
   "source": [
    "# 划分训练集和验证集，使用sklearn的train_test_split函数\n",
    "from sklearn.model_selection import train_test_split\n",
    "\n",
    "train_graphs, val_graphs = train_test_split(graphs, test_size=0.2)\n",
    "val_graphs, test_graphs = train_test_split(val_graphs, test_size=0.5)\n",
    "len(train_graphs), len(val_graphs), len(test_graphs)"
   ]
  },
  {
   "cell_type": "code",
   "execution_count": 164,
   "metadata": {},
   "outputs": [],
   "source": [
    "class SAGEModel(nn.Module):\n",
    "    def __init__(self, input_size, output_size):\n",
    "        super(SAGEModel, self).__init__()\n",
    "\n",
    "        self.graph_features = nn.ModuleList(\n",
    "            [\n",
    "                gnn.SAGEConv(input_size, 128),\n",
    "                nn.LayerNorm(128),\n",
    "                nn.ReLU(),\n",
    "                gnn.SAGEConv(128, 128),\n",
    "                nn.LayerNorm(128),\n",
    "                nn.ReLU(),\n",
    "                # gnn.SAGEConv(128, 128),\n",
    "                # nn.LayerNorm(128),\n",
    "                # nn.ReLU(),\n",
    "                # nn.Dropout(0.1),\n",
    "            ]\n",
    "        )\n",
    "\n",
    "        # 考虑更多的trick，如layernorm等等\n",
    "        self.regression = nn.Sequential(\n",
    "            nn.Linear(128, 64),\n",
    "            nn.LayerNorm(64),\n",
    "            nn.ReLU(),\n",
    "            nn.Linear(64, 32),\n",
    "            nn.LayerNorm(32),\n",
    "            nn.ReLU(),\n",
    "            # nn.Dropout(0.1),\n",
    "            nn.Linear(32, output_size),\n",
    "        )\n",
    "\n",
    "    def forward(self, data):\n",
    "        x, edge_index, _ = data.x, data.edge_index, data.edge_attr\n",
    "\n",
    "        output = x\n",
    "\n",
    "        for layer in self.graph_features:\n",
    "            if isinstance(layer, gnn.SAGEConv):\n",
    "                output = layer(output, edge_index)\n",
    "            else:\n",
    "                output = layer(output)\n",
    "\n",
    "        output = self.regression(output)\n",
    "\n",
    "        return output"
   ]
  },
  {
   "cell_type": "code",
   "execution_count": 165,
   "metadata": {},
   "outputs": [
    {
     "data": {
      "text/plain": [
       "torch.Size([1140, 2])"
      ]
     },
     "execution_count": 165,
     "metadata": {},
     "output_type": "execute_result"
    }
   ],
   "source": [
    "# 看看模型的输入输出\n",
    "model = SAGEModel(input_size=33, output_size=2)\n",
    "output = model(graphs[0])\n",
    "output.shape"
   ]
  },
  {
   "cell_type": "code",
   "execution_count": 166,
   "id": "bb002ef7",
   "metadata": {},
   "outputs": [],
   "source": [
    "input_size = graphs[0].x.shape[1]\n",
    "# 这里的output_size就是最终的输出维度，不需要再乘以num_heads\n",
    "output_size = graphs[0].y.shape[1]\n",
    "# 个人认为，注意力头的个数应该和输出维度保持一致，因为每个输出可能需要关注不同的邻居\n",
    "num_heads = graphs[0].y.shape[1]\n",
    "\n",
    "device = torch.device(\"cuda\" if torch.cuda.is_available() else \"cpu\")\n",
    "# batch_size = 256\n",
    "\n",
    "model_path = \"saved/models/sage_nostd.pth\""
   ]
  },
  {
   "cell_type": "code",
   "execution_count": 167,
   "metadata": {},
   "outputs": [],
   "source": [
    "def calScore(loss):\n",
    "    return 1 / (1 + math.sqrt(2 * loss))"
   ]
  },
  {
   "cell_type": "markdown",
   "metadata": {},
   "source": [
    "# 开始训练"
   ]
  },
  {
   "cell_type": "code",
   "execution_count": 168,
   "id": "c1d2aa35",
   "metadata": {},
   "outputs": [],
   "source": [
    "def train(\n",
    "    model, criterion, optimizer, scheduler, train_graphs, val_graphs=None, num_epochs=50\n",
    "):\n",
    "    # 训练过程记录\n",
    "    train_loss_list = []\n",
    "    val_loss_list = []\n",
    "\n",
    "    with tqdm(total=num_epochs, desc=\"Training Progress\", unit=\"epoch\") as pbar_epochs:\n",
    "        for epoch in range(num_epochs):\n",
    "            # 训练\n",
    "            model.train()\n",
    "            train_loss = 0.0\n",
    "\n",
    "            # 目前每个batch是1个graph\n",
    "            for i, graph in enumerate(train_graphs):\n",
    "                graph = graph.to(device)\n",
    "\n",
    "                output = model(graph)\n",
    "\n",
    "                optimizer.zero_grad()\n",
    "                loss = criterion(output, graph.y)\n",
    "                loss.backward()\n",
    "                optimizer.step()\n",
    "\n",
    "                train_loss += loss.item()\n",
    "\n",
    "            train_loss /= len(train_graphs)\n",
    "            train_loss_list.append(train_loss)\n",
    "\n",
    "            # 验证\n",
    "            if val_graphs:\n",
    "                model.eval()\n",
    "                with torch.no_grad():\n",
    "                    val_loss = 0.0\n",
    "                    for i, graph in enumerate(val_graphs):\n",
    "                        graph = graph.to(device)\n",
    "                        output = model(graph)\n",
    "                        loss = criterion(output, graph.y)\n",
    "                        val_loss += loss.item()\n",
    "                    val_loss /= len(val_graphs)\n",
    "                    val_loss_list.append(val_loss)\n",
    "\n",
    "            if val_graphs:\n",
    "                pbar_epochs.set_postfix(\n",
    "                    {\n",
    "                        \"train MSE Loss\": train_loss,\n",
    "                        \"train score\": calScore(train_loss),\n",
    "                        \"val MSE Loss\": val_loss,\n",
    "                        \"val score\": calScore(val_loss),\n",
    "                    }\n",
    "                )\n",
    "            else:\n",
    "                pbar_epochs.set_postfix(\n",
    "                    {\"train MSE Loss\": train_loss, \"train score\": calScore(train_loss)}\n",
    "                )\n",
    "            pbar_epochs.update(1)\n",
    "            scheduler.step()\n",
    "\n",
    "    # 可视化训练过程\n",
    "    plt.figure()\n",
    "    plt.plot(train_loss_list, label=\"train loss\")\n",
    "    if val_graphs:\n",
    "        plt.plot(val_loss_list, label=\"val loss\")\n",
    "    plt.xlabel(\"epoch\")\n",
    "    plt.ylabel(\"MSE loss\")\n",
    "    plt.legend()\n",
    "\n",
    "    return model"
   ]
  },
  {
   "cell_type": "code",
   "execution_count": 169,
   "metadata": {},
   "outputs": [
    {
     "name": "stderr",
     "output_type": "stream",
     "text": [
      "Training Progress: 100%|██████████| 100/100 [00:40<00:00,  2.48epoch/s, train MSE Loss=0.228, train score=0.597, val MSE Loss=0.275, val score=0.574]    \n"
     ]
    },
    {
     "data": {
      "image/png": "[encoded data removed]",
      "text/plain": [
       "<Figure size 640x480 with 1 Axes>"
      ]
     },
     "metadata": {},
     "output_type": "display_data"
    }
   ],
   "source": [
    "# 定义模型、算法、损失函数\n",
    "model = SAGEModel(\n",
    "    input_size=input_size,\n",
    "    output_size=output_size,\n",
    ").to(device)\n",
    "# 考虑是否加入weight_decay\n",
    "optimizer = optim.Adam(model.parameters(), lr=1e-2, weight_decay=1e-3)\n",
    "# 学习率衰减\n",
    "scheduler = optim.lr_scheduler.StepLR(optimizer, step_size=15, gamma=0.5)\n",
    "criterion = nn.MSELoss().to(device)\n",
    "\n",
    "model = train(\n",
    "    model, criterion, optimizer, scheduler, train_graphs, val_graphs, num_epochs=100\n",
    ")"
   ]
  },
  {
   "cell_type": "code",
   "execution_count": 175,
   "metadata": {},
   "outputs": [],
   "source": [
    "# 看看测试集上的效果\n",
    "def predict(model, test_graphs):\n",
    "    model.eval()\n",
    "    with torch.no_grad():\n",
    "        test_loss = 0.0\n",
    "        for i, graph in enumerate(test_graphs):\n",
    "            graph = graph.to(device)\n",
    "            output = model(graph)\n",
    "            loss = criterion(output, graph.y)\n",
    "            test_loss += loss.item()\n",
    "        test_loss /= len(test_graphs)\n",
    "    return test_loss, calScore(test_loss)"
   ]
  },
  {
   "cell_type": "code",
   "execution_count": 177,
   "metadata": {},
   "outputs": [
    {
     "data": {
      "text/plain": [
       "(0.2352150711748335, 0.5931623441471969)"
      ]
     },
     "execution_count": 177,
     "metadata": {},
     "output_type": "execute_result"
    }
   ],
   "source": [
    "predict(model, test_graphs)"
   ]
  },
  {
   "cell_type": "code",
   "execution_count": 25,
   "metadata": {},
   "outputs": [
    {
     "ename": "NameError",
     "evalue": "name 'train' is not defined",
     "output_type": "error",
     "traceback": [
      "\u001b[0;31m---------------------------------------------------------------------------\u001b[0m",
      "\u001b[0;31mNameError\u001b[0m                                 Traceback (most recent call last)",
      "\u001b[1;32m/home/liqiang/workspace/datamining/datamining_dataset_1110/graph/bdci_gnn/SAGEConv_nostd.ipynb 单元格 14\u001b[0m line \u001b[0;36m1\n\u001b[1;32m      <a href='vscode-notebook-cell://ssh-remote%2B10.60.150.62/home/liqiang/workspace/datamining/datamining_dataset_1110/graph/bdci_gnn/SAGEConv_nostd.ipynb#X16sdnNjb2RlLXJlbW90ZQ%3D%3D?line=8'>9</a>\u001b[0m scheduler \u001b[39m=\u001b[39m optim\u001b[39m.\u001b[39mlr_scheduler\u001b[39m.\u001b[39mStepLR(optimizer, step_size\u001b[39m=\u001b[39m\u001b[39m15\u001b[39m, gamma\u001b[39m=\u001b[39m\u001b[39m0.5\u001b[39m)\n\u001b[1;32m     <a href='vscode-notebook-cell://ssh-remote%2B10.60.150.62/home/liqiang/workspace/datamining/datamining_dataset_1110/graph/bdci_gnn/SAGEConv_nostd.ipynb#X16sdnNjb2RlLXJlbW90ZQ%3D%3D?line=9'>10</a>\u001b[0m criterion \u001b[39m=\u001b[39m nn\u001b[39m.\u001b[39mMSELoss()\u001b[39m.\u001b[39mto(device)\n\u001b[0;32m---> <a href='vscode-notebook-cell://ssh-remote%2B10.60.150.62/home/liqiang/workspace/datamining/datamining_dataset_1110/graph/bdci_gnn/SAGEConv_nostd.ipynb#X16sdnNjb2RlLXJlbW90ZQ%3D%3D?line=11'>12</a>\u001b[0m model \u001b[39m=\u001b[39m train(model, criterion, optimizer, scheduler, graphs, num_epochs\u001b[39m=\u001b[39m\u001b[39m100\u001b[39m)\n",
      "\u001b[0;31mNameError\u001b[0m: name 'train' is not defined"
     ]
    }
   ],
   "source": [
    "# 定义模型、算法、损失函数\n",
    "model = SAGEModel(\n",
    "    input_size=input_size,\n",
    "    output_size=output_size,\n",
    ").to(device)\n",
    "# 考虑是否加入weight_decay\n",
    "optimizer = optim.Adam(model.parameters(), lr=1e-2, weight_decay=1e-4)\n",
    "# 学习率衰减\n",
    "scheduler = optim.lr_scheduler.StepLR(optimizer, step_size=15, gamma=0.5)\n",
    "criterion = nn.MSELoss().to(device)\n",
    "\n",
    "model = train(model, criterion, optimizer, scheduler, graphs, num_epochs=100)"
   ]
  },
  {
   "cell_type": "code",
   "execution_count": 12,
   "metadata": {},
   "outputs": [],
   "source": [
    "# 保存模型\n",
    "torch.save(model.state_dict(), model_path)"
   ]
  },
  {
   "cell_type": "markdown",
   "metadata": {},
   "source": [
    "# 预测"
   ]
  },
  {
   "cell_type": "code",
   "execution_count": 13,
   "metadata": {},
   "outputs": [
    {
     "data": {
      "text/plain": [
       "<All keys matched successfully>"
      ]
     },
     "execution_count": 13,
     "metadata": {},
     "output_type": "execute_result"
    }
   ],
   "source": [
    "# 读取模型\n",
    "model = SAGEModel(\n",
    "    input_size=input_size,\n",
    "    output_size=output_size,\n",
    ").to(device)\n",
    "model.load_state_dict(torch.load(model_path))"
   ]
  },
  {
   "cell_type": "code",
   "execution_count": 14,
   "metadata": {},
   "outputs": [],
   "source": [
    "# 读取node_ids\n",
    "with open(\"data/node_ids.pkl\", \"rb\") as file:\n",
    "    node_ids = pickle.load(file)\n",
    "    file.close()"
   ]
  },
  {
   "cell_type": "code",
   "execution_count": 15,
   "metadata": {},
   "outputs": [],
   "source": [
    "# 读取测试集\n",
    "with open(\"data/test_graphs_nostd_data.pkl\", \"rb\") as file:\n",
    "    test_graphs = pickle.load(file)\n",
    "    file.close()"
   ]
  },
  {
   "cell_type": "code",
   "execution_count": 16,
   "metadata": {},
   "outputs": [
    {
     "data": {
      "text/plain": [
       "(4, Data(x=[1140, 33], edge_index=[2, 21018], edge_attr=[21018, 2]))"
      ]
     },
     "execution_count": 16,
     "metadata": {},
     "output_type": "execute_result"
    }
   ],
   "source": [
    "len(test_graphs), test_graphs[0]"
   ]
  },
  {
   "cell_type": "markdown",
   "metadata": {},
   "source": [
    "预测"
   ]
  },
  {
   "cell_type": "code",
   "execution_count": 59,
   "metadata": {},
   "outputs": [],
   "source": [
    "model.eval()\n",
    "output_list = []\n",
    "with torch.no_grad():\n",
    "    for i, graph in enumerate(test_graphs):\n",
    "        graph = graph.to(device)\n",
    "        output = model(graph)\n",
    "        output_list.append(output.detach().cpu().numpy())"
   ]
  },
  {
   "cell_type": "code",
   "execution_count": 60,
   "metadata": {},
   "outputs": [
    {
     "data": {
      "text/plain": [
       "(4, (1140, 2), array([68.632545, 60.75451 ], dtype=float32))"
      ]
     },
     "execution_count": 60,
     "metadata": {},
     "output_type": "execute_result"
    }
   ],
   "source": [
    "len(output_list), output_list[0].shape, output_list[0][0]"
   ]
  },
  {
   "cell_type": "code",
   "execution_count": 61,
   "metadata": {},
   "outputs": [
    {
     "data": {
      "text/plain": [
       "array([68.632545, 60.75451 ], dtype=float32)"
      ]
     },
     "execution_count": 61,
     "metadata": {},
     "output_type": "execute_result"
    }
   ],
   "source": [
    "# 看看是不是缩放完成啦\n",
    "output_list[0][0]"
   ]
  },
  {
   "cell_type": "markdown",
   "metadata": {},
   "source": [
    "### 把输出转成需要的格式"
   ]
  },
  {
   "cell_type": "code",
   "execution_count": 62,
   "metadata": {},
   "outputs": [],
   "source": [
    "import csv\n",
    "\n",
    "# 结果写入csv，分隔符为\\t\n",
    "output_path = \"output/sage_nostd_out.csv\"\n",
    "\n",
    "date_id = [20230404, 20230405, 20230406, 20230407]\n",
    "with open(output_path, \"w\", newline=\"\") as f:\n",
    "    writer = csv.writer(f, delimiter=\"\\t\")  # 设置分隔符为制表符\n",
    "    writer.writerow([\"geohash_id\", \"consumption_level\", \"activity_level\", \"date_id\"])\n",
    "\n",
    "    # output_list.shape = [4天, 节点数, 2个输出]\n",
    "    for nidx in range(len(node_ids)):\n",
    "        for day in range(len(date_id)):\n",
    "            # 注意不要写反了\n",
    "            writer.writerow(\n",
    "                [\n",
    "                    node_ids[nidx],\n",
    "                    output_list[day][nidx][1],\n",
    "                    output_list[day][nidx][0],\n",
    "                    date_id[day],\n",
    "                ]\n",
    "            )\n",
    "    f.close()"
   ]
  }
 ],
 "metadata": {
  "kernelspec": {
   "display_name": "Python 3 (ipykernel)",
   "language": "python",
   "name": "python3"
  },
  "language_info": {
   "codemirror_mode": {
    "name": "ipython",
    "version": 3
   },
   "file_extension": ".py",
   "mimetype": "text/x-python",
   "name": "python",
   "nbconvert_exporter": "python",
   "pygments_lexer": "ipython3",
   "version": "3.10.13"
  }
 },
 "nbformat": 4,
 "nbformat_minor": 5
}
